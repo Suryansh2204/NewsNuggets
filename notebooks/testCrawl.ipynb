{
 "cells": [
  {
   "cell_type": "code",
   "execution_count": 1,
   "id": "f0d6f00c",
   "metadata": {},
   "outputs": [],
   "source": [
    "import requests\n",
    "import pandas as pd\n",
    "import re\n",
    "import bs4\n",
    "from bs4 import BeautifulSoup\n",
    "from requests.exceptions import RequestException\n",
    "import time"
   ]
  },
  {
   "cell_type": "code",
   "execution_count": 2,
   "id": "a8442dfe",
   "metadata": {},
   "outputs": [],
   "source": [
    "def safe_get(url):\n",
    "    try:\n",
    "        response = requests.get(url, timeout=30)\n",
    "        response.raise_for_status()  # Raise an error for HTTP errors (e.g., 404, 500)\n",
    "        return response\n",
    "    except RequestException as e:\n",
    "        print(f\"Error fetching {url}: {e}\")\n",
    "        return None"
   ]
  },
  {
   "cell_type": "code",
   "execution_count": 3,
   "id": "7dbddf8f",
   "metadata": {},
   "outputs": [],
   "source": [
    "def get_data(soup):\n",
    "    title=soup.find(\"meta\", {\"property\": \"og:title\"})[\"content\"]\n",
    "    if title:\n",
    "        title = title.strip()\n",
    "    else:\n",
    "        title=soup.title.string\n",
    "        index = title.find(\"-\")\n",
    "        if index != -1:\n",
    "            title = title[index+1:].strip()\n",
    "    \n",
    "    description = soup.find(\"meta\", {\"name\": \"description\"})\n",
    "    if description:\n",
    "        description = description.get(\"content\", \"\").strip()\n",
    "    else:\n",
    "        description = \"No description found\"\n",
    "        \n",
    "    image=soup.find(\"meta\", {\"property\": \"og:image\"})\n",
    "    if image:\n",
    "        image = image.get(\"content\", \"\").strip()\n",
    "    else:\n",
    "        image = \"\"\n",
    "        \n",
    "    site_url = soup.find(\"meta\", {\"property\": \"og:url\"})\n",
    "    if site_url:\n",
    "        site_url = site_url.get(\"content\", \"\").strip()\n",
    "    else:\n",
    "        site_url = \"\"\n",
    "    \n",
    "    paragraphs = soup.find(\"div\", class_=\"article-content\").find_all(\"p\")\n",
    "    if not paragraphs:\n",
    "        content=\"\"\n",
    "    else:\n",
    "        paragraph_texts = [p.get_text() for p in paragraphs]\n",
    "        content=\" \".join(paragraph_texts).strip()\n",
    "    \n",
    "    info=soup.find(\"div\", class_=\"article-info--col\").find_all(\"p\")[0].get_text()\n",
    "    if info:\n",
    "        info=info[info.find(\":\") + 1:].strip()\n",
    "        publish_date, publish_time=info.split(\"at\")\n",
    "    else:\n",
    "        publish_date = \"\"\n",
    "        publish_time = \"\"\n",
    "    return {\n",
    "        \"title\": title,\n",
    "        \"description\": description,\n",
    "        \"content\": content,\n",
    "        \"image\": image,\n",
    "        \"site_url\": site_url,\n",
    "        \"publish_date\": publish_date.strip(),\n",
    "        \"publish_time\": publish_time.strip()\n",
    "    }"
   ]
  },
  {
   "cell_type": "code",
   "execution_count": 4,
   "id": "7e6f18b6",
   "metadata": {},
   "outputs": [],
   "source": [
    "response = safe_get(\"https://www.bangkokpost.com/most-recent\")"
   ]
  },
  {
   "cell_type": "code",
   "execution_count": 5,
   "id": "b0de1b35",
   "metadata": {},
   "outputs": [],
   "source": [
    "if response is not None:\n",
    "    soup = BeautifulSoup(response.text, \"html.parser\")"
   ]
  },
  {
   "cell_type": "code",
   "execution_count": 7,
   "id": "69f85ad9",
   "metadata": {},
   "outputs": [
    {
     "ename": "NoSuchDriverException",
     "evalue": "Message: Unable to obtain driver for chrome; For documentation on this error, please visit: https://www.selenium.dev/documentation/webdriver/troubleshooting/errors/driver_location\n",
     "output_type": "error",
     "traceback": [
      "\u001b[1;31m---------------------------------------------------------------------------\u001b[0m",
      "\u001b[1;31mValueError\u001b[0m                                Traceback (most recent call last)",
      "File \u001b[1;32mc:\\Users\\surya\\anaconda3\\Lib\\site-packages\\selenium\\webdriver\\common\\driver_finder.py:64\u001b[0m, in \u001b[0;36mDriverFinder._binary_paths\u001b[1;34m(self)\u001b[0m\n\u001b[0;32m     63\u001b[0m \u001b[38;5;28;01mif\u001b[39;00m \u001b[38;5;129;01mnot\u001b[39;00m Path(path)\u001b[38;5;241m.\u001b[39mis_file():\n\u001b[1;32m---> 64\u001b[0m     \u001b[38;5;28;01mraise\u001b[39;00m \u001b[38;5;167;01mValueError\u001b[39;00m(\u001b[38;5;124mf\u001b[39m\u001b[38;5;124m\"\u001b[39m\u001b[38;5;124mThe path is not a valid file: \u001b[39m\u001b[38;5;132;01m{\u001b[39;00mpath\u001b[38;5;132;01m}\u001b[39;00m\u001b[38;5;124m\"\u001b[39m)\n\u001b[0;32m     65\u001b[0m \u001b[38;5;28mself\u001b[39m\u001b[38;5;241m.\u001b[39m_paths[\u001b[38;5;124m\"\u001b[39m\u001b[38;5;124mdriver_path\u001b[39m\u001b[38;5;124m\"\u001b[39m] \u001b[38;5;241m=\u001b[39m path\n",
      "\u001b[1;31mValueError\u001b[0m: The path is not a valid file: path/to/chromedriver",
      "\nThe above exception was the direct cause of the following exception:\n",
      "\u001b[1;31mNoSuchDriverException\u001b[0m                     Traceback (most recent call last)",
      "Cell \u001b[1;32mIn[7], line 12\u001b[0m\n\u001b[0;32m     10\u001b[0m options\u001b[38;5;241m.\u001b[39madd_argument(\u001b[38;5;124m\"\u001b[39m\u001b[38;5;124m--start-maximized\u001b[39m\u001b[38;5;124m\"\u001b[39m)  \u001b[38;5;66;03m# optional: start maximized\u001b[39;00m\n\u001b[0;32m     11\u001b[0m service \u001b[38;5;241m=\u001b[39m Service(\u001b[38;5;124m'\u001b[39m\u001b[38;5;124mpath/to/chromedriver\u001b[39m\u001b[38;5;124m'\u001b[39m)  \u001b[38;5;66;03m# replace with your actual path\u001b[39;00m\n\u001b[1;32m---> 12\u001b[0m driver \u001b[38;5;241m=\u001b[39m webdriver\u001b[38;5;241m.\u001b[39mChrome(service\u001b[38;5;241m=\u001b[39mservice, options\u001b[38;5;241m=\u001b[39moptions)\n\u001b[0;32m     14\u001b[0m \u001b[38;5;66;03m# Open the page with the news\u001b[39;00m\n\u001b[0;32m     15\u001b[0m driver\u001b[38;5;241m.\u001b[39mget(\u001b[38;5;124m\"\u001b[39m\u001b[38;5;124mhttps://bangkokpost.com/most-recent\u001b[39m\u001b[38;5;124m\"\u001b[39m)  \u001b[38;5;66;03m# replace with actual URL\u001b[39;00m\n",
      "File \u001b[1;32mc:\\Users\\surya\\anaconda3\\Lib\\site-packages\\selenium\\webdriver\\chrome\\webdriver.py:45\u001b[0m, in \u001b[0;36mWebDriver.__init__\u001b[1;34m(self, options, service, keep_alive)\u001b[0m\n\u001b[0;32m     42\u001b[0m service \u001b[38;5;241m=\u001b[39m service \u001b[38;5;28;01mif\u001b[39;00m service \u001b[38;5;28;01melse\u001b[39;00m Service()\n\u001b[0;32m     43\u001b[0m options \u001b[38;5;241m=\u001b[39m options \u001b[38;5;28;01mif\u001b[39;00m options \u001b[38;5;28;01melse\u001b[39;00m Options()\n\u001b[1;32m---> 45\u001b[0m \u001b[38;5;28msuper\u001b[39m()\u001b[38;5;241m.\u001b[39m\u001b[38;5;21m__init__\u001b[39m(\n\u001b[0;32m     46\u001b[0m     browser_name\u001b[38;5;241m=\u001b[39mDesiredCapabilities\u001b[38;5;241m.\u001b[39mCHROME[\u001b[38;5;124m\"\u001b[39m\u001b[38;5;124mbrowserName\u001b[39m\u001b[38;5;124m\"\u001b[39m],\n\u001b[0;32m     47\u001b[0m     vendor_prefix\u001b[38;5;241m=\u001b[39m\u001b[38;5;124m\"\u001b[39m\u001b[38;5;124mgoog\u001b[39m\u001b[38;5;124m\"\u001b[39m,\n\u001b[0;32m     48\u001b[0m     options\u001b[38;5;241m=\u001b[39moptions,\n\u001b[0;32m     49\u001b[0m     service\u001b[38;5;241m=\u001b[39mservice,\n\u001b[0;32m     50\u001b[0m     keep_alive\u001b[38;5;241m=\u001b[39mkeep_alive,\n\u001b[0;32m     51\u001b[0m )\n",
      "File \u001b[1;32mc:\\Users\\surya\\anaconda3\\Lib\\site-packages\\selenium\\webdriver\\chromium\\webdriver.py:51\u001b[0m, in \u001b[0;36mChromiumDriver.__init__\u001b[1;34m(self, browser_name, vendor_prefix, options, service, keep_alive)\u001b[0m\n\u001b[0;32m     48\u001b[0m \u001b[38;5;28mself\u001b[39m\u001b[38;5;241m.\u001b[39mservice \u001b[38;5;241m=\u001b[39m service\n\u001b[0;32m     50\u001b[0m finder \u001b[38;5;241m=\u001b[39m DriverFinder(\u001b[38;5;28mself\u001b[39m\u001b[38;5;241m.\u001b[39mservice, options)\n\u001b[1;32m---> 51\u001b[0m \u001b[38;5;28;01mif\u001b[39;00m finder\u001b[38;5;241m.\u001b[39mget_browser_path():\n\u001b[0;32m     52\u001b[0m     options\u001b[38;5;241m.\u001b[39mbinary_location \u001b[38;5;241m=\u001b[39m finder\u001b[38;5;241m.\u001b[39mget_browser_path()\n\u001b[0;32m     53\u001b[0m     options\u001b[38;5;241m.\u001b[39mbrowser_version \u001b[38;5;241m=\u001b[39m \u001b[38;5;28;01mNone\u001b[39;00m\n",
      "File \u001b[1;32mc:\\Users\\surya\\anaconda3\\Lib\\site-packages\\selenium\\webdriver\\common\\driver_finder.py:47\u001b[0m, in \u001b[0;36mDriverFinder.get_browser_path\u001b[1;34m(self)\u001b[0m\n\u001b[0;32m     46\u001b[0m \u001b[38;5;28;01mdef\u001b[39;00m \u001b[38;5;21mget_browser_path\u001b[39m(\u001b[38;5;28mself\u001b[39m) \u001b[38;5;241m-\u001b[39m\u001b[38;5;241m>\u001b[39m \u001b[38;5;28mstr\u001b[39m:\n\u001b[1;32m---> 47\u001b[0m     \u001b[38;5;28;01mreturn\u001b[39;00m \u001b[38;5;28mself\u001b[39m\u001b[38;5;241m.\u001b[39m_binary_paths()[\u001b[38;5;124m\"\u001b[39m\u001b[38;5;124mbrowser_path\u001b[39m\u001b[38;5;124m\"\u001b[39m]\n",
      "File \u001b[1;32mc:\\Users\\surya\\anaconda3\\Lib\\site-packages\\selenium\\webdriver\\common\\driver_finder.py:78\u001b[0m, in \u001b[0;36mDriverFinder._binary_paths\u001b[1;34m(self)\u001b[0m\n\u001b[0;32m     76\u001b[0m \u001b[38;5;28;01mexcept\u001b[39;00m \u001b[38;5;167;01mException\u001b[39;00m \u001b[38;5;28;01mas\u001b[39;00m err:\n\u001b[0;32m     77\u001b[0m     msg \u001b[38;5;241m=\u001b[39m \u001b[38;5;124mf\u001b[39m\u001b[38;5;124m\"\u001b[39m\u001b[38;5;124mUnable to obtain driver for \u001b[39m\u001b[38;5;132;01m{\u001b[39;00mbrowser\u001b[38;5;132;01m}\u001b[39;00m\u001b[38;5;124m\"\u001b[39m\n\u001b[1;32m---> 78\u001b[0m     \u001b[38;5;28;01mraise\u001b[39;00m NoSuchDriverException(msg) \u001b[38;5;28;01mfrom\u001b[39;00m \u001b[38;5;21;01merr\u001b[39;00m\n\u001b[0;32m     79\u001b[0m \u001b[38;5;28;01mreturn\u001b[39;00m \u001b[38;5;28mself\u001b[39m\u001b[38;5;241m.\u001b[39m_paths\n",
      "\u001b[1;31mNoSuchDriverException\u001b[0m: Message: Unable to obtain driver for chrome; For documentation on this error, please visit: https://www.selenium.dev/documentation/webdriver/troubleshooting/errors/driver_location\n"
     ]
    }
   ],
   "source": [
    "from selenium import webdriver\n",
    "from selenium.webdriver.common.by import By\n",
    "from selenium.webdriver.chrome.service import Service\n",
    "from selenium.webdriver.chrome.options import Options\n",
    "from selenium.webdriver.support.ui import WebDriverWait\n",
    "from selenium.webdriver.support import expected_conditions as EC\n",
    "\n",
    "# Setup Chrome WebDriver\n",
    "options = Options()\n",
    "options.add_argument(\"--start-maximized\")  # optional: start maximized\n",
    "service = Service('path/to/chromedriver')  # replace with your actual path\n",
    "driver = webdriver.Chrome(service=service, options=options)\n",
    "\n",
    "# Open the page with the news\n",
    "driver.get(\"https://bangkokpost.com/most-recent\")  # replace with actual URL\n",
    "\n",
    "try:\n",
    "    # Wait until the 'MORE' button is clickable and then click\n",
    "    wait = WebDriverWait(driver, 10)\n",
    "    more_button = wait.until(EC.element_to_be_clickable((By.XPATH, '//a[@class=\"btn btn-border\" and text()=\"MORE\"]')))\n",
    "    more_button.click()\n",
    "    print(\"Clicked the 'MORE' button successfully.\")\n",
    "except Exception as e:\n",
    "    print(\"Failed to click the 'MORE' button:\", e)\n",
    "finally:\n",
    "    driver.quit()\n"
   ]
  },
  {
   "cell_type": "code",
   "execution_count": 6,
   "id": "13fdf7b5",
   "metadata": {},
   "outputs": [],
   "source": [
    "figures = soup.find(\"div\", class_=\"page--link\").find_all(\"figure\")\n",
    "links=[]\n",
    "for figure in figures:\n",
    "    link = figure.find(\"a\")\n",
    "    if link:\n",
    "        href = link.get(\"href\")\n",
    "        if href:\n",
    "            links.append(href.strip())\n",
    "links = list(set(links))  # Remove duplicates"
   ]
  },
  {
   "cell_type": "code",
   "execution_count": 7,
   "id": "75f78b94",
   "metadata": {},
   "outputs": [
    {
     "data": {
      "text/plain": [
       "['/world/2997586/buchenwald-camp-survivor-recounts-liberation-80-years-on',\n",
       " '/thailand/general/2997562/sniffer-dogs-withdrawn-from-bangkoks-collapsed-tower-building',\n",
       " '/world/2997577/china-holds-military-drills-at-newly-expanded-cambodian-naval-base',\n",
       " '/thailand/general/2997569/cat-lovers-eager-to-adopt-small-feline-found-alive-in-collapsed-highrise',\n",
       " '/thailand/general/2997546/seven-provinces-flagged-for-summer-storms-gusting-winds',\n",
       " '/world/2997596/belgian-prince-seeks-social-security-on-top-of-allowance',\n",
       " '/world/2997604/hong-kongs-cathay-pacific-bans-pilots-cabin-crew-from-taking-power-banks-on-flights',\n",
       " '/business/general/2997556/dollar-funding-demand-grows-as-risk-aversion-rattles-markets',\n",
       " '/thailand/general/2997537/frequent-small-tremors-in-chiang-mai-mae-hong-son']"
      ]
     },
     "execution_count": 7,
     "metadata": {},
     "output_type": "execute_result"
    }
   ],
   "source": [
    "links"
   ]
  },
  {
   "cell_type": "code",
   "execution_count": 8,
   "id": "fe241513",
   "metadata": {},
   "outputs": [
    {
     "name": "stdout",
     "output_type": "stream",
     "text": [
      "https://www.bangkokpost.com/world/2997586/buchenwald-camp-survivor-recounts-liberation-80-years-on\n",
      "https://www.bangkokpost.com/thailand/general/2997562/sniffer-dogs-withdrawn-from-bangkoks-collapsed-tower-building\n",
      "https://www.bangkokpost.com/world/2997577/china-holds-military-drills-at-newly-expanded-cambodian-naval-base\n",
      "https://www.bangkokpost.com/thailand/general/2997569/cat-lovers-eager-to-adopt-small-feline-found-alive-in-collapsed-highrise\n",
      "https://www.bangkokpost.com/thailand/general/2997546/seven-provinces-flagged-for-summer-storms-gusting-winds\n",
      "https://www.bangkokpost.com/world/2997596/belgian-prince-seeks-social-security-on-top-of-allowance\n",
      "https://www.bangkokpost.com/world/2997604/hong-kongs-cathay-pacific-bans-pilots-cabin-crew-from-taking-power-banks-on-flights\n",
      "https://www.bangkokpost.com/business/general/2997556/dollar-funding-demand-grows-as-risk-aversion-rattles-markets\n",
      "https://www.bangkokpost.com/thailand/general/2997537/frequent-small-tremors-in-chiang-mai-mae-hong-son\n"
     ]
    }
   ],
   "source": [
    "for link in links:\n",
    "    print(\"https://www.bangkokpost.com\" + link)"
   ]
  },
  {
   "cell_type": "code",
   "execution_count": null,
   "id": "105616bf",
   "metadata": {},
   "outputs": [
    {
     "ename": "AttributeError",
     "evalue": "'NoneType' object has no attribute 'find_all'",
     "output_type": "error",
     "traceback": [
      "\u001b[1;31m---------------------------------------------------------------------------\u001b[0m",
      "\u001b[1;31mAttributeError\u001b[0m                            Traceback (most recent call last)",
      "Cell \u001b[1;32mIn[9], line 5\u001b[0m\n\u001b[0;32m      2\u001b[0m \u001b[38;5;28;01mif\u001b[39;00m res:\n\u001b[0;32m      3\u001b[0m     soup \u001b[38;5;241m=\u001b[39m BeautifulSoup(res\u001b[38;5;241m.\u001b[39mtext, \u001b[38;5;124m\"\u001b[39m\u001b[38;5;124mhtml.parser\u001b[39m\u001b[38;5;124m\"\u001b[39m)\n\u001b[1;32m----> 5\u001b[0m     data \u001b[38;5;241m=\u001b[39m get_data(soup)\n\u001b[0;32m      6\u001b[0m     \u001b[38;5;28mprint\u001b[39m(soup)\n",
      "Cell \u001b[1;32mIn[3], line 29\u001b[0m, in \u001b[0;36mget_data\u001b[1;34m(soup)\u001b[0m\n\u001b[0;32m     26\u001b[0m \u001b[38;5;28;01melse\u001b[39;00m:\n\u001b[0;32m     27\u001b[0m     site_url \u001b[38;5;241m=\u001b[39m \u001b[38;5;124m\"\u001b[39m\u001b[38;5;124m\"\u001b[39m\n\u001b[1;32m---> 29\u001b[0m paragraphs \u001b[38;5;241m=\u001b[39m soup\u001b[38;5;241m.\u001b[39mfind(\u001b[38;5;124m\"\u001b[39m\u001b[38;5;124mdiv\u001b[39m\u001b[38;5;124m\"\u001b[39m, class_\u001b[38;5;241m=\u001b[39m\u001b[38;5;124m\"\u001b[39m\u001b[38;5;124marticle-content\u001b[39m\u001b[38;5;124m\"\u001b[39m)\u001b[38;5;241m.\u001b[39mfind_all(\u001b[38;5;124m\"\u001b[39m\u001b[38;5;124mp\u001b[39m\u001b[38;5;124m\"\u001b[39m)\n\u001b[0;32m     30\u001b[0m \u001b[38;5;28;01mif\u001b[39;00m \u001b[38;5;129;01mnot\u001b[39;00m paragraphs:\n\u001b[0;32m     31\u001b[0m     content\u001b[38;5;241m=\u001b[39m\u001b[38;5;124m\"\u001b[39m\u001b[38;5;124m\"\u001b[39m\n",
      "\u001b[1;31mAttributeError\u001b[0m: 'NoneType' object has no attribute 'find_all'"
     ]
    }
   ],
   "source": [
    "# res=safe_get(\"https://www.bangkokpost.com/video/thailand/2996869/deeper-dive-thailand-vaping-debate-takeaways\")\n",
    "# if res:\n",
    "#     soup = BeautifulSoup(res.text, \"html.parser\")\n",
    "    \n",
    "#     data = get_data(soup)\n",
    "#     print(soup)"
   ]
  },
  {
   "cell_type": "code",
   "execution_count": 10,
   "id": "7362de61",
   "metadata": {},
   "outputs": [
    {
     "name": "stdout",
     "output_type": "stream",
     "text": [
      "Fetching: https://www.bangkokpost.com/world/2997586/buchenwald-camp-survivor-recounts-liberation-80-years-on\n",
      "Response: <Response [200]>\n",
      "Count =  0 {'title': 'Buchenwald camp survivor recounts liberation, 80 years on', 'description': 'PARIS - Jacques Moalic, a 102-year-old former Agence France-Presse journalist, remembers vividly the liberation of Buchenwald concentration camp by American troops 80 years ago.', 'content': 'PARIS - Jacques Moalic, a 102-year-old former Agence France-Presse journalist, remembers vividly the liberation of Buchenwald concentration camp by American troops 80 years ago. In an interview with AFP, where he worked for 40 years after World War II, the Buchenwald survivor spoke of his last months in captivity and the arrival of American troops on April 11, 1945. He recounted his ordeal once again, speaking ahead of the 80th anniversary of the camp\\'s liberation. Around 56,000 Jews, Roma and Soviet prisoners died there between 1937 and 1945. In 1943, Moalic, then a young Resistance fighter, was arrested and eventually forced to board a train. He tried to flee, jumping from the train, but was caught. In December 1943, he was brought to Buchenwald, which stood on a hill near the German town of Weimar. He was placed in Block 34. In the hell that was Buchenwald, prisoners pinned their hopes on Allied forces, who landed on the beaches of Normandy on June 6, 1944. The liberation of Paris in August 1944 boosted their spirits. \"In the camps, people regained their courage,\" Moalic, former head of general news at AFP, said in his Paris apartment. \"They said to themselves, we will be free by Christmas. I didn\\'t really believe it. I was right.\" When the Allied troops had not arrived by the end of the year, many began to lose hope. In January 1945, Moalic was moved to the Ohrdruf death camp. \"In January, on the 8th I believe, there was an unexpected gathering,\" he said. \"The SS officer passed between the rows noting down the numbers. Eight hundred to 900 of us were to leave for a camp nobody knew about.\" He was advised to try to get himself taken off the list if he wanted to live. \"But I was on it, and there was no escaping. We ended up in Ohrdruf.\" The prisoners there were forced to dig underground tunnels. \"Guys worked day and night digging into the mountain,\" Moalic said. He thought he would die. \"I said to myself: being woken up at four or five in the morning, going home at 10 at night, I\\'ll last a fortnight. For the first time, I thought that maybe I wouldn\\'t come back.\" Instead, he was recruited as an electrician. The job saved his life. \"I slept in former Wehrmacht (German military) accommodations,\" he said. Other prisoners were exposed to temperatures of minus 15 degrees Celsius. Many died. \"Of course, we had known for some time that Russians and the Allies were advancing. But there\\'s a big difference between \\'they\\'re advancing\\' and \\'they\\'re here\\'!\" he said. \"One day at roll call, we heard a sound we had never heard before -- artillery, cannon,\" he said. They realised the Allies were within striking distance. \"We looked at each other and there was an extraordinary silence.\" In 1945, Easter fell on April 1. They did not work that day. Then they were told they were being evacuated. They were ordered to march, in columns of 1,000 people. They did not know their final destination. They marched through mountainous countryside. \"It drizzled,\" he said. \"We marched like that for three or four days.\" Ohrdruf had been worse than Buchenwald, and the prisoners were exhausted. Anyone who fell along the way was shot. Many were killed during the death march, said Moalic. \"Some of the guys were already half dead when they started out,\" he said. \"We arrived at Weimar train station and then we started climbing towards Buchenwald.\" It was a trek of around six or seven kilometres, he said. \"There were 72 corpses.\" When the prisoners arrived back at Buchenwald, it was dark. \"There were 3,000 to 4,000 of us on the roll call square,\" he said. One man recognised him and took him back to Block 34. \"I was covered in lice.\" The Americans were getting closer. \"On April 11, there was a lot of excitement in the camp,\" Moalic said. The prisoners did not know whether they would be liberated or massacred. \"The SS began to empty the camp, block by block, and each group was sent to Weimar station, where filthy wagons were awaiting.\" The remaining prisoners were preparing for a possible fight. \"Then all of a sudden, an American unit arrived,\" he said. \"The SS did not engage in combat. They preferred to get the hell out of there,\" he said. \"A few minutes later, we were outside.\" When Moalic finally returned to Paris, he was questioned by authorities at the iconic Lutetia hotel, which was turned into a welcome centre for concentration camp survivors. He looked so haggard women gave up their seats for him in the metro. \"I still remember a pale spring sun,\" he wrote in an account published in 1985. \"Wednesday April 11, 1945 was a beautiful day for the inmates of Buchenwald concentration camp, the first beautiful day since July 1937, when Heinrich Himmler inaugurated and named it.\"', 'image': 'https://static.bangkokpost.com/media/content/20250407/c1_5546066_700.jpg', 'site_url': 'https://www.bangkokpost.com/world/2997586/buchenwald-camp-survivor-recounts-liberation-80-years-on', 'publish_date': '7 Apr 2025', 'publish_time': '14:45'}\n",
      "Fetching: https://www.bangkokpost.com/thailand/general/2997562/sniffer-dogs-withdrawn-from-bangkoks-collapsed-tower-building\n",
      "Response: <Response [200]>\n",
      "Count =  1 {'title': \"Sniffer dogs withdrawn from Bangkok's collapsed tower building\", 'description': 'Sniffer dogs have been withdrawn from the collapsed State Audit Office building in Bangkok after 11 days of searching for survivors.', 'content': 'Sniffer dogs have been withdrawn from the collapsed State Audit Office building in Bangkok after\\xa011 days of searching for survivors.\\xa0 Investigators will start collecting evidence from amid the rubble on Tuesday as the probe begins in ernest into why the 30-storey unfinished building collapsed during the March 28 earthquake. Suthikiart Sophanik, director of K9 USAR (canine urban search and rescue) Thailand, said on Monday that sniffer dogs normally worked a disaster site for seven to 10 days. The search at the site in Chatuchak district had continued for 11 days.\\xa0 The dogs and their trainers had done their best and it was now time to bring in heavy machinery to remove the debris, he said. K9 USAR Thailand deployed nine sniffer dogs and their trainers at collapse site and K9 USAR Canada had one dog there.\\xa0 The investigation into why the building collapsed when other highrises in Bangkok remain structurally sound will begin on Tuesday. It will primarily involve the Department of Special Investigation, the Department of Public Works and Town and Country Planning and the Metropolitan Police Bureau. Pol Maj Woranan Srilam, DSI director for consumer protection, said on Monday that DSI officials and inspectors from the public works department and the Thai Industrial Standards Institute would check the quality of the concrete and steel at the collapse site, and the DSI would look into the possible use of Thai nominees by the construction company. He advised three Thai nationals listed as shareholders of China Railway No.10 Engineering Co to report to police and share what information they have with authorities. CREC 10 is part of the ITD-CREC consortium contracted to build the 30-storey State Audit Office at a cost of 2.1 billion baht. Pol Maj Gen Noppasin Poonsawat, deputy commissioner of the Metropolitan Police Bureau, said police investigators would collect samples of steel rods, concrete used in the construction, and other material evidence, for examination.', 'image': 'https://static.bangkokpost.com/media/content/20250407/c1_2997562_700.jpg', 'site_url': 'https://www.bangkokpost.com/thailand/general/2997562/sniffer-dogs-withdrawn-from-bangkoks-collapsed-tower-building', 'publish_date': '7 Apr 2025', 'publish_time': '14:17'}\n",
      "Fetching: https://www.bangkokpost.com/world/2997577/china-holds-military-drills-at-newly-expanded-cambodian-naval-base\n",
      "Response: <Response [200]>\n",
      "Count =  2 {'title': 'China holds military drills at newly expanded Cambodian naval base', 'description': 'BEIJING - China and Cambodia on Sunday held joint military exercises at a newly expanded naval base on the coast of the Gulf of Thailand, a facility the United States worries could become a military outpost for the Chinese.', 'content': 'BEIJING - China and Cambodia on Sunday held joint military exercises at a newly expanded naval base on the coast of the Gulf of Thailand, a facility the United States worries could become a military outpost for the Chinese. Conducted one day after the expanded Ream Naval Base was inaugurated, warships from both countries conducted drills including formation manoeuvring, China Central Television (CCTV) reported late on Sunday. In the future, such exercises will most likely become more frequent, involving not only naval but also land and air elements, and would help \"safeguard peace and stability in the South China Sea,\" China\\'s state-run Global Times reported, citing Chinese military experts. Chinese military vessels have been rotating through Ream in the province of Sihanoukville since a Beijing-funded upgrade kicked off in June 2022. The upgrade came after Cambodia demolished a US-built facility at the base in Sihanoukville in 2020, having declined Washington\\'s offer to repair it. Cambodia has repeatedly denied reports of a clandestine deal with China to station its forces at the base, and said that it is open to hosting military vessels from other countries. Cambodian Prime Minister Hun Manet and a delegation of China\\'s People\\'s Liberation Army (PLA) attended the inauguration ceremony on Saturday of the expanded base, which now includes a new pier that could host larger vessels, according to China\\'s state-run Xinhua news agency.', 'image': 'https://www.bangkokpost.com/v3/assets/images/img-default.jpg', 'site_url': 'https://www.bangkokpost.com/world/2997577/china-holds-military-drills-at-newly-expanded-cambodian-naval-base', 'publish_date': '7 Apr 2025', 'publish_time': '14:38'}\n",
      "Fetching: https://www.bangkokpost.com/thailand/general/2997569/cat-lovers-eager-to-adopt-small-feline-found-alive-in-collapsed-highrise\n",
      "Response: <Response [200]>\n",
      "Count =  3 {'title': 'Cat lovers eager to adopt small feline found alive in collapsed highrise', 'description': \"Cat lovers have flocked to a pet clinic's Facebook page, all hoping to adopt a small cat found alive by a sniffer dog amid the devastation of the collapsed State Audit Office building.\", 'content': 'Cat lovers have flocked to a pet clinic\\'s Facebook page, all hoping to adopt a small cat found alive by a sniffer dog amid the devastation of the collapsed State Audit Office building. The Wipawadee Pet Clinic announced on Monday it was looking for a new home for the young female, aged about two months,\\xa0 The little feline was found about 8pm on Sunday by Naree, a sniffer dog. The cat had survived inside the rubble of the earthquake-struck 30-storey building for 10 days before being found by the rescue dog, part of the search and rescue operation. The cat was immediately sent to Wipawadee Pet Clinic for treatment. Veterinarian Wipawadee Pathom-rapeepong, who runs the clinic, was among those who volunteered to help any animals found trapped inside the crumbled building. She initially dubbed the cat \"satong\", close to the English word \"strong\", because it had such a strong will to survive. In Thai script the word is spelled exactly the same way as the Thai abbreviation of the State Audit Office, but pronounced differently. \"The orange cat found by K9 Naree last night is with me. Anybody who wants to adopt her can take her free of charge,\" the vet said on Facebook. \"The cat will grow up strong, that\\'s for sure,\" she added. \"Satong\" was given another health examination on Monday. She was found to have a fever and be infected with a corona virus, among other illnesses. The young cat will be treated until she is healthy, and the clinic has promised her, \"We will find you a new home\". Cat lovers posting on the clinic\\'s page all agreed she was very cute and many expected to be her new owner. Pojana Manotham posted on the clinic\\'s page that \"satong\" was a star now, and would definitely be warmly welcomed into a new home. \"I just hope the new home will not be a condo. I\\'m a bit worried about that,\" she said, echoing fears about the safety of Bangkok highrise buildings during an earhquake. Vet Wipawadee took the opportunity to remind the clinc\\'s followers that \"satong\" was not the only animal in need of a new home. \"I have many more cats waiting for free adoption, not only satong,\" she wrote.', 'image': 'https://static.bangkokpost.com/media/content/20250407/c1_2997569_700.jpg', 'site_url': 'https://www.bangkokpost.com/thailand/general/2997569/cat-lovers-eager-to-adopt-small-feline-found-alive-in-collapsed-highrise', 'publish_date': '7 Apr 2025', 'publish_time': '15:48'}\n",
      "Fetching: https://www.bangkokpost.com/thailand/general/2997546/seven-provinces-flagged-for-summer-storms-gusting-winds\n",
      "Response: <Response [200]>\n",
      "Count =  4 {'title': 'Seven provinces flagged for summer storms, gusting winds', 'description': 'Weathermen have warned seven provinces in the central, northeastern and northern regions to expect heavy rain and gusty winds on Monday and into Tuesday.', 'content': 'Weathermen have warned seven provinces in the central, northeastern and northern regions to expect heavy rain and gusty winds on Monday and into Tuesday. The Meteorological Department forecast on Monday said the seven provinces are: The agency also advised people in the upper part of the country, in addition to those in the seven provinces, to avoid travelling and going outdoors during storms. In Bangkok, rain was reported falling in 12 districts on Monday, but was expected to ease throughout the week. Deputy spokesman Somkhuan Tonchan told TNN on Sunday some parts in the country may experience summer storms and hot weather during the Songkran holiday next week. The holiday celebrating the traditional new year runs from Saturday to Wednesday. On Sunday, Chai Badan district in Lop Buri was the hottest place in the country, with the temperature hitting 40.8°C, followed by 40.3°C in Wichien Buri in Phetchabun and 39.3°C in Muang district in Nakhon Sawan, according to the department.', 'image': 'https://static.bangkokpost.com/media/content/20250407/c1_2997546_700.jpg', 'site_url': 'https://www.bangkokpost.com/thailand/general/2997546/seven-provinces-flagged-for-summer-storms-gusting-winds', 'publish_date': '7 Apr 2025', 'publish_time': '12:09'}\n",
      "Fetching: https://www.bangkokpost.com/world/2997596/belgian-prince-seeks-social-security-on-top-of-allowance\n",
      "Response: <Response [200]>\n",
      "Count =  5 {'title': 'Belgian prince seeks social security on top of allowance', 'description': \"BRUSSELS (BELGIUM) - An unconventional Belgian prince will learn on Monday if he has the right to social security on top of his royal allowance after he sued for coverage -- the first time a royal has taken such action against the state in the country's nearly 200-year history.\", 'content': 'BRUSSELS (BELGIUM) - An unconventional Belgian prince will learn on Monday if he has the right to social security on top of his royal allowance after he sued for coverage -- the first time a royal has taken such action against the state in the country\\'s nearly 200-year history. The 61-year-old Prince Laurent, youngest of three children of the former king and queen, insists his work entitles his family to social security -- and that he is acting out of \"principle\" rather than for money. Prince Laurent is no stranger to embarrassing the royal family. His long list of unwelcome antics includes likening his relatives to East Germany\\'s Stasi secret police in 2015. In 2018, his annual state allowance was cut by 15 percent because he met foreign dignitaries without the federal government\\'s approval. It was not his first faux pas, but the punishment was unprecedented. Laurent -- who received 388,000 euros ($425,000) last year from state coffers and lives in his home rent-free -- insists he is not motivated by money. \"This is not about financial means but principle,\" he told Belgian broadcaster RTBF. \"When a migrant comes here, he registers, he has a right to it. I may be a migrant too, but one whose family established the state in place,\" he added. Laurent has pointed to medical costs and his concerns over his family\\'s financial wellbeing since the royal allowance will be cut when he dies. The prince has had an animal welfare foundation offering free veterinary care in clinics for the past 10 years. He says the foundation work, alongside dozens of visits representing Belgium and participation on several boards, means he has a busy schedule. The prince believes he is entitled to social security coverage for independent entrepreneurs. He took legal action after his application was refused. A first hearing was held in November 2024. The prince did not take legal action on a \"whim\", said his lawyer Olivier Rijckaert, in an article in Le Soir newspaper. Social security is \"a right granted by Belgian law to every resident, from the poorest to the biggest billionaire\", the lawyer added. Laurent only receives a salary worth 25 percent of his allowance, since the rest covers professional expenses including travel and wages for a staff member. This comes to a monthly net wage for the prince of 5,000 euros ($5,480), which is comparable to the \"average salary of a senior executive in Belgium\", but without the usual \"full social security coverage\", Rijckaert said. Laurent and his British wife, Claire, have three children now in their twenties. Without this coverage, Laurent cannot claim reimbursement for certain medical expenses, or sick pay if he is unable to work. He is not the only royal to have been unhappy about money. When King Albert II abdicated in favour of his son Philippe after 20 years of reign in 2013, the ex-monarch found his 923,000 euros ($1.25 million) a year insufficient. Laurent has lambasted what he calls an attempt to \"control\" him. \"I never asked for an allowance! I always wanted to work, but I was prevented from doing so,\" he said in 2023, noting his desire, at the age of 60, to \"finally\" be able to pursue independent projects. The judgment will not be delivered in public but sent to the parties in the case on Monday.', 'image': 'https://static.bangkokpost.com/media/content/20250407/c1_5546076_700.jpg', 'site_url': 'https://www.bangkokpost.com/world/2997596/belgian-prince-seeks-social-security-on-top-of-allowance', 'publish_date': '7 Apr 2025', 'publish_time': '14:45'}\n",
      "Fetching: https://www.bangkokpost.com/world/2997604/hong-kongs-cathay-pacific-bans-pilots-cabin-crew-from-taking-power-banks-on-flights\n",
      "Response: <Response [200]>\n",
      "Count =  6 {'title': \"Hong Kong's Cathay Pacific bans pilots, cabin crew from taking power banks on flights\", 'description': 'Hong Kong flag carrier Cathay Pacific Airways has banned its pilots and cabin crew from carrying power banks on board flights while on duty amid safety concerns, the South China Morning Post has learned, in a move aircrew decried as causing them significant inconvenience and a \"double standard\" compared with restrictions for passengers.', 'content': 'Hong Kong flag carrier Cathay Pacific Airways has banned its pilots and cabin crew from carrying power banks on board flights while on duty amid safety concerns, the South China Morning Post has learned, in a move aircrew decried as causing them significant inconvenience and a \"double standard\" compared with restrictions for passengers. In a notice to cabin crew last Thursday, a copy of which was seen by the South China Morning Post, the carrier said that \"operating crew are prohibited from carrying power banks with them on duty\", effective on Monday. The carrier added that the move was \"to enhance safety\" and applied to both flight crew and cabin crew. \"We don\\'t understand why there is a double standard on us when passengers are allowed to bring their power banks on board but the aircrew are forbidden from doing so,\" Brenda Cheng, vice-chairwoman of the carrier\\'s Flight Attendants Union, said on Monday. \"We are now in discussion with the company and hope that it can clarify this policy.\" The airline\\'s notice to crew also announced the implementation of the Civil Aviation Department\\'s new rule, which also came into effect on Monday, that passengers could not use power banks, or recharge them, or store them in overhead compartments during flights. Under the new regulations, passengers would have to keep power banks on them, or place them in the seat pocket in front of them, or in their hand luggage under the seat. Fliers would be allowed to charge electronic devices using USB ports built into seats, where available. Before and after boarding, passengers would be reminded to take out their lithium battery power banks and refrain from using or charging them, or storing them in the overhead compartments, the airline said. As the new rules came into effect on Monday, some Cathay passengers at Hong Kong International Airport expressed frustration at the regulations. \"If you bring it on board but can\\'t use it, it\\'s really pointless,\" Raymond Yeung, who had booked a flight to Shanghai, said. \"It\\'s the same as not putting it in the overhead compartment and just holding it - it\\'s still on the plane.\" He said power banks should either be banned altogether, or airlines should take steps to ensure the products had met certain safety requirements and allow them to be used on flights. Yeung, who had checked-in online and did not speak to counter staff, added he only learned of the new regulations from previous news reports, and did not notice further reminders from the airline. IT worker Dickson Chan, who was flying to Kuala Lumpur, described the new rules as \"superfluous\". \"Assuming it\\'s a long-haul flight, I think this is unreasonable … short-haul flights are OK,\" he said. Asked about previous on-board accidents related to power banks, Chan said: \"These things didn\\'t just start happening today, and safety measures exist. The current revisions just seem unnecessary.\" But other passengers, such as Liane Hui Yuk-lan, who was heading home to San Francisco, felt the new rules were reasonable. She said most flights had USB ports for charging phones, and understood power banks could not be placed in overhead bins because it would be harder to spot a fire that ignited there. \"Safety should always be the first priority - whether it is convenient or not is up to people to feel and decide … but safety first,\" she said. But Hui added airlines should communicate such regulations and the reasoning behind them more clearly so that there would be better acceptance. \"At the end of the day, we all just want to be safe and sound, and have a happy trip without any worries.\" While passengers were allowed to bring power banks onto planes if they adhered to the rules, aircrew were not and had to bring adaptor plugs instead to charge their devices, according to the company\\'s notice. Flight Attendants Union leader Cheng said the ban on operating crew would cause aircrew great inconvenience during their layovers at overseas outports, and urged Cathay to find ways to meet crew members\\' phone-charging needs. She added the union was not aware of any other airline in Hong Kong that had placed such restrictions on operating crew. Cheng said aircrew understood the safety reasons but nonetheless needed to be able to use power banks to recharge their phones once they got off the flight, especially in the event of an accident such as earthquakes or power outages. \"We need our power banks to keep our devices like mobile phones to remain functional for communication otherwise we will be unable to perform our duties effectively as we can\\'t keep tabs on matters related to our job.\" She called for Cathay to consider other solutions such as allowing aircrew to keep their power banks in a box and storing them safely on the plane. In a letter to the company, the Hong Kong Aircrew Officers Association also said the ban was \"unnecessary\" and called for the carrier to keep the restrictions in line with those for passengers. \"The justification regarding \\'risk mitigation\\' is sound, however, the \\'leading by example\\' is not consistent in our opinion,\" the association said. \"If a complete prohibition is in fact maintaining the highest safety standards, then it would seem logical that this position would be reflected in the policy regarding carriage by passengers.\" The association also highlighted that aircrew were equipped with training and knowledge about battery fire risks and firefighting strategies, so they had a lower risk profile than that of passengers, who had less awareness of the risks involved.', 'image': 'https://static.bangkokpost.com/media/content/20250407/c1_2997604_700.jpg', 'site_url': 'https://www.bangkokpost.com/world/2997604/hong-kongs-cathay-pacific-bans-pilots-cabin-crew-from-taking-power-banks-on-flights', 'publish_date': '7 Apr 2025', 'publish_time': '16:06'}\n",
      "Fetching: https://www.bangkokpost.com/business/general/2997556/dollar-funding-demand-grows-as-risk-aversion-rattles-markets\n",
      "Response: <Response [200]>\n",
      "Count =  7 {'title': 'Dollar funding demand grows as risk aversion rattles markets', 'description': 'SINGAPORE - Demand for dollar funding picked up momentum on Monday as deepening risk aversion rattled the global financial market.', 'content': 'SINGAPORE - Demand for dollar funding picked up momentum on Monday as deepening risk aversion rattled the global financial market. The spread between two-year US overnight-indexed swaps and cash Treasury yields, a proxy for demand for the world’s reserve currency, narrowed to the lowest since November. Another measure, three-month yen-dollar basis swaps, slid to levels unseen since December, while equivalents in the euro and pound saw similar declines. Still, the moves were modest and not at levels that would signify heightened concern about market stability. Investors are looking to money markets to gauge the level of financial stress and potential impact on interest rates from the risk-asset selloff triggered by President Donald Trump’s global tariff policy. With his administration showing no sign of backing down and China set to retaliate, swaps price in a total of more than 100 basis points of rate cuts by the Federal Reserve by year-end. “We may be seeing a repeat of what happened during the global pandemic albeit a smaller scale where investors, businesses and companies dashed for dollar funds, leading to a drop in liquidity in the Treasury market,” said Naokazu Koshimizu, a senior rates strategist at Nomura Securities Co. in Tokyo. \\xa0“While swaps have dropped substantially to reflect expectations of rate cuts, investors and dealers find it difficult to buy bonds,” preventing Treasury yields from matching the move. Should higher US tariffs take effect on April 9 as announced, demand for dollar funding risks strengthening further unless the Fed takes measures such as supplying funds or cutting rates, according to Koshimizu. Spreads in the spot and forward currency market also showed signs of modest widening, albeit not at levels that significantly impacted transactions, according to an Asia-based FX trader who asked not to be identified they aren’t authorized to speak publicly.', 'image': 'https://static.bangkokpost.com/media/content/20250407/c1_2997556_700.jpg', 'site_url': 'https://www.bangkokpost.com/business/general/2997556/dollar-funding-demand-grows-as-risk-aversion-rattles-markets', 'publish_date': '7 Apr 2025', 'publish_time': '13:50'}\n",
      "Fetching: https://www.bangkokpost.com/thailand/general/2997537/frequent-small-tremors-in-chiang-mai-mae-hong-son\n",
      "Response: <Response [200]>\n",
      "Count =  8 {'title': 'Frequent small tremors in Chiang Mai, Mae Hong Son', 'description': 'Sixteen small tremors measuring 1.9-3.8 on the Richter scale were recorded in Wiang Haeng district of Chiang Mai and Pai district of Mae Hong Son on Monday morning, but only a few were felt by residents.', 'content': 'Sixteen small tremors measuring 1.9-3.8 on the Richter scale were recorded in Wiang Haeng district of Chiang Mai and Pai district of Mae Hong Son on Monday morning, but only a few were felt by residents.\\xa0\\xa0 The Earthquake Observation Division said the tremors occurred from 4.22am to 10.57am on Monday. Ten quakes of magnitudes 1.9 to 3.5 were detected in tambon Saen Hai of Wiang Haeng district, Chiang Mai, from 4.22am to 10.43am. Six quakes were recorded in tambon Wiang Nuea of Pai district, Mae Hong Son, from 6.11am to 10.57am. The first was the largest at 3.8 magnitude. Local people in both locations reported feeling three shakes, those of 3.2-3.8 magnitude. Government spokesman Jirayu Huangsub said in Chiang Mai on Monday that the March 28 earthquake in Myanmar affected three buildings in Chiang Mai. One was Duangkamol condominium in Muang district. The eight-storey building has 102 units and is more than three decades old. It was evacuated and cordoned off due to distortion and structural cracks seen on the first floor. Public works officials will instruct the property owner to improve the building, Mr Jirayu said. The other two were 22-storey condominium buildings and showed only cosmetic damage. The buildings were evacuated pending repairs, he said.', 'image': 'https://static.bangkokpost.com/media/content/20250407/c1_2997537_700.jpg', 'site_url': 'https://www.bangkokpost.com/thailand/general/2997537/frequent-small-tremors-in-chiang-mai-mae-hong-son', 'publish_date': '7 Apr 2025', 'publish_time': '11:55'}\n"
     ]
    }
   ],
   "source": [
    "news=[]\n",
    "sleep_for=5\n",
    "count=0\n",
    "for link in links:\n",
    "    time.sleep(sleep_for)  # import time\n",
    "    target=\"https://www.bangkokpost.com\" + link\n",
    "    print(\"Fetching: \"+target)\n",
    "    response= safe_get(target)\n",
    "    print(\"Response: \"+str(response))\n",
    "    if response:\n",
    "        soup = BeautifulSoup(response.text, \"html.parser\")\n",
    "        if(soup.find(\"div\", class_=\"article-content\") is None):\n",
    "            continue\n",
    "        data = get_data(soup)\n",
    "        print(\"Count = \",count,data)\n",
    "        news.append(data)\n",
    "        count+=1\n"
   ]
  },
  {
   "cell_type": "code",
   "execution_count": null,
   "id": "a9e2628b",
   "metadata": {},
   "outputs": [],
   "source": [
    "news"
   ]
  },
  {
   "cell_type": "code",
   "execution_count": null,
   "id": "9c0e923b",
   "metadata": {},
   "outputs": [],
   "source": [
    "from datetime import datetime\n",
    "\n",
    "publish_date = \"5 Apr 2025\"\n",
    "publish_time = \"20:20\"\n",
    "\n",
    "# Combine and parse into datetime\n",
    "dt = datetime.strptime(f\"{publish_date} {publish_time}\", \"%d %b %Y %H:%M\")\n",
    "\n",
    "print(dt)  # Output: 2025-04-05 20:20:00\n"
   ]
  },
  {
   "cell_type": "code",
   "execution_count": null,
   "id": "71a08090",
   "metadata": {},
   "outputs": [],
   "source": [
    "type(dt)"
   ]
  },
  {
   "cell_type": "code",
   "execution_count": null,
   "id": "7c989aad",
   "metadata": {},
   "outputs": [],
   "source": [
    "dt=dt.strftime(\"%Y-%m-%d %H:%M:%S\")\n",
    "print(dt)  # Output: 2025-04-05 20:20:00"
   ]
  },
  {
   "cell_type": "code",
   "execution_count": null,
   "id": "b550948d",
   "metadata": {},
   "outputs": [],
   "source": [
    "type(dt)  # Output: <class 'datetime.datetime'>"
   ]
  },
  {
   "cell_type": "code",
   "execution_count": null,
   "id": "1c489575",
   "metadata": {},
   "outputs": [],
   "source": [
    "import html\n",
    "from io import BytesIO\n",
    "def clean_text(text):\n",
    "    return html.unescape(BeautifulSoup(text, \"html.parser\").get_text()).replace('\\xa0', ' ').strip()\n",
    "\n",
    "for news in news:\n",
    "    news['title'] = clean_text(news['title'])\n",
    "    news['description'] = clean_text(news['description'])\n",
    "    news['content'] = clean_text(news['content'])"
   ]
  },
  {
   "cell_type": "code",
   "execution_count": null,
   "id": "466e875f",
   "metadata": {},
   "outputs": [],
   "source": [
    "news"
   ]
  }
 ],
 "metadata": {
  "kernelspec": {
   "display_name": "base",
   "language": "python",
   "name": "python3"
  },
  "language_info": {
   "codemirror_mode": {
    "name": "ipython",
    "version": 3
   },
   "file_extension": ".py",
   "mimetype": "text/x-python",
   "name": "python",
   "nbconvert_exporter": "python",
   "pygments_lexer": "ipython3",
   "version": "3.12.7"
  }
 },
 "nbformat": 4,
 "nbformat_minor": 5
}
