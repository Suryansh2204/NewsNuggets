{
 "cells": [
  {
   "cell_type": "code",
   "execution_count": null,
   "id": "f0d6f00c",
   "metadata": {},
   "outputs": [],
   "source": [
    "import requests\n",
    "import pandas as pd\n",
    "import re\n",
    "import bs4\n",
    "from bs4 import BeautifulSoup\n",
    "from requests.exceptions import RequestException\n",
    "import time"
   ]
  },
  {
   "cell_type": "code",
   "execution_count": 2,
   "id": "a8442dfe",
   "metadata": {},
   "outputs": [],
   "source": [
    "def safe_get(url):\n",
    "    try:\n",
    "        response = requests.get(url, timeout=30)\n",
    "        response.raise_for_status()  # Raise an error for HTTP errors (e.g., 404, 500)\n",
    "        return response\n",
    "    except RequestException as e:\n",
    "        print(f\"Error fetching {url}: {e}\")\n",
    "        return None"
   ]
  },
  {
   "cell_type": "code",
   "execution_count": 3,
   "id": "7dbddf8f",
   "metadata": {},
   "outputs": [],
   "source": [
    "def get_data(soup):\n",
    "    title=soup.find(\"meta\", {\"property\": \"og:title\"})[\"content\"]\n",
    "    if title:\n",
    "        title = title.strip()\n",
    "    else:\n",
    "        title=soup.title.string\n",
    "        index = title.find(\"-\")\n",
    "        if index != -1:\n",
    "            title = title[index+1:].strip()\n",
    "    \n",
    "    description = soup.find(\"meta\", {\"name\": \"description\"})\n",
    "    if description:\n",
    "        description = description.get(\"content\", \"\").strip()\n",
    "    else:\n",
    "        description = \"No description found\"\n",
    "        \n",
    "    image=soup.find(\"meta\", {\"property\": \"og:image\"})\n",
    "    if image:\n",
    "        image = image.get(\"content\", \"\").strip()\n",
    "    else:\n",
    "        image = \"\"\n",
    "        \n",
    "    site_url = soup.find(\"meta\", {\"property\": \"og:url\"})\n",
    "    if site_url:\n",
    "        site_url = site_url.get(\"content\", \"\").strip()\n",
    "    else:\n",
    "        site_url = \"\"\n",
    "    \n",
    "    paragraphs = soup.find(\"div\", class_=\"article-content\").find_all(\"p\")\n",
    "    if not paragraphs:\n",
    "        content=\"\"\n",
    "    else:\n",
    "        paragraph_texts = [p.get_text() for p in paragraphs]\n",
    "        content=\" \".join(paragraph_texts).strip()\n",
    "    \n",
    "    info=soup.find(\"div\", class_=\"article-info--col\").find_all(\"p\")[0].get_text()\n",
    "    if info:\n",
    "        info=info[info.find(\":\") + 1:].strip()\n",
    "        publish_date, publish_time=info.split(\"at\")\n",
    "    else:\n",
    "        publish_date = \"\"\n",
    "        publish_time = \"\"\n",
    "    return {\n",
    "        \"title\": title,\n",
    "        \"description\": description,\n",
    "        \"content\": content,\n",
    "        \"image\": image,\n",
    "        \"site_url\": site_url,\n",
    "        \"publish_date\": publish_date.strip(),\n",
    "        \"publish_time\": publish_time.strip()\n",
    "    }"
   ]
  },
  {
   "cell_type": "code",
   "execution_count": 4,
   "id": "7e6f18b6",
   "metadata": {},
   "outputs": [],
   "source": [
    "response = safe_get(\"https://www.bangkokpost.com/most-recent\")"
   ]
  },
  {
   "cell_type": "code",
   "execution_count": 5,
   "id": "b0de1b35",
   "metadata": {},
   "outputs": [],
   "source": [
    "if response is not None:\n",
    "    soup = BeautifulSoup(response.text, \"html.parser\")"
   ]
  },
  {
   "cell_type": "code",
   "execution_count": 6,
   "id": "13fdf7b5",
   "metadata": {},
   "outputs": [],
   "source": [
    "figures = soup.find(\"div\", class_=\"page--link\").find_all(\"figure\")\n",
    "links=[]\n",
    "for figure in figures:\n",
    "    link = figure.find(\"a\")\n",
    "    if link:\n",
    "        href = link.get(\"href\")\n",
    "        if href:\n",
    "            links.append(href.strip())\n",
    "links = list(set(links))  # Remove duplicates"
   ]
  },
  {
   "cell_type": "code",
   "execution_count": 7,
   "id": "75f78b94",
   "metadata": {},
   "outputs": [
    {
     "data": {
      "text/plain": [
       "['/thailand/general/2996427/uk-couple-happy-to-be-home-after-thailand-ordeal',\n",
       " '/world/2996402/india-and-uae-to-develop-sri-lanka-energy-hub',\n",
       " '/world/2996386/usaid-team-fired-during-myanmar-quake-mission',\n",
       " '/world/2996376/manila-sees-beijings-arrests-of-spies-as-retaliation',\n",
       " '/thailand/general/2996356/din-daeng-toll-plaza-closing-at-night-from-saturday-to-monday',\n",
       " '/thailand/general/2996392/chinese-tourist-found-dead-on-pattaya-beach',\n",
       " '/thailand/general/2996349/steel-samples-at-building-collapse-site-sent-for-testing',\n",
       " '/world/2996339/trumps-global-baseline-tariff-takes-effect',\n",
       " '/thailand/politics/2996304/about-politics-nominees-feel-the-blues']"
      ]
     },
     "execution_count": 7,
     "metadata": {},
     "output_type": "execute_result"
    }
   ],
   "source": [
    "links"
   ]
  },
  {
   "cell_type": "code",
   "execution_count": 8,
   "id": "fe241513",
   "metadata": {},
   "outputs": [
    {
     "name": "stdout",
     "output_type": "stream",
     "text": [
      "https://www.bangkokpost.com/thailand/general/2996427/uk-couple-happy-to-be-home-after-thailand-ordeal\n",
      "https://www.bangkokpost.com/world/2996402/india-and-uae-to-develop-sri-lanka-energy-hub\n",
      "https://www.bangkokpost.com/world/2996386/usaid-team-fired-during-myanmar-quake-mission\n",
      "https://www.bangkokpost.com/world/2996376/manila-sees-beijings-arrests-of-spies-as-retaliation\n",
      "https://www.bangkokpost.com/thailand/general/2996356/din-daeng-toll-plaza-closing-at-night-from-saturday-to-monday\n",
      "https://www.bangkokpost.com/thailand/general/2996392/chinese-tourist-found-dead-on-pattaya-beach\n",
      "https://www.bangkokpost.com/thailand/general/2996349/steel-samples-at-building-collapse-site-sent-for-testing\n",
      "https://www.bangkokpost.com/world/2996339/trumps-global-baseline-tariff-takes-effect\n",
      "https://www.bangkokpost.com/thailand/politics/2996304/about-politics-nominees-feel-the-blues\n"
     ]
    }
   ],
   "source": [
    "for link in links:\n",
    "    print(\"https://www.bangkokpost.com\" + link)"
   ]
  },
  {
   "cell_type": "code",
   "execution_count": 10,
   "id": "7362de61",
   "metadata": {},
   "outputs": [
    {
     "name": "stdout",
     "output_type": "stream",
     "text": [
      "Fetching: https://www.bangkokpost.com/thailand/general/2996427/uk-couple-happy-to-be-home-after-thailand-ordeal\n",
      "Response: <Response [200]>\n",
      "Count =  0 {'title': 'UK couple happy to be home after Thailand ordeal', 'description': 'A British couple whose Thailand retirement dream turned into a nightmare are back home and say they &ldquo;couldn&rsquo;t be happier&rdquo; as they prepare to rebuild their lives.', 'content': 'A British couple whose Thailand retirement dream turned into a nightmare are back home and say they “couldn’t be happier” as they prepare to rebuild their lives. “I wish we’d never gone to Thailand but we can’t turn the clock back and Des and I are going to have a wonderful retirement together,” Mary Byrne, 69, told the BBC. She and her husband Des, 77, were badly beaten by two neighbours after a property dispute in Hua Hin, where they had purchased a villa. They said they acted in self-defence but feared they would be jailed when Thai authorities said they and their assailants would all face charges. \\xa0 The incident took place in December 2023 but the charges were not laid until June last year. The couple’s passports were seized and they endured a months-long wait to learn of their fate. Last month the couple finally appeared in court, where they were fined and had their passports returned to them. They have now abandoned their plans to retire in Thailand and are instead looking at houses in Middlesbrough. “Being back in Middlesbrough and seeing the fabulous countryside, it’s absolutely wonderful,” Mrs Byrne told the BBC. “We couldn’t be happier.” Since getting back to England the couple have stayed with a family in Berkshire but plan to settle back on their native Teesside once they find a home. Mrs Byrne said: “We are recovering and coming home has made it so much easier. We’re elated, the emotions are so high at being back at home.”', 'image': 'https://static.bangkokpost.com/media/content/20250405/c1_2996427_700.jpg', 'site_url': 'https://www.bangkokpost.com/thailand/general/2996427/uk-couple-happy-to-be-home-after-thailand-ordeal', 'publish_date': '5 Apr 2025', 'publish_time': '20:20'}\n",
      "Fetching: https://www.bangkokpost.com/world/2996402/india-and-uae-to-develop-sri-lanka-energy-hub\n",
      "Response: <Response [200]>\n",
      "Count =  1 {'title': 'India and UAE to develop Sri Lanka energy hub', 'description': 'COLOMBO - India and the United Arab Emirates have agreed to develop an energy hub in Sri Lanka, the Indian foreign ministry said on Saturday, as New Delhi&rsquo;s competition with China grows in the Indian Ocean island nation.', 'content': 'COLOMBO - India and the United Arab Emirates have agreed to develop an energy hub in Sri Lanka, the Indian foreign ministry said on Saturday, as New Delhi’s competition with China grows in the Indian Ocean island nation. The three nations signed the pact for the hub during Indian Prime Minister Narendra Modi’s visit to Sri Lanka, the first by a global leader since Sri Lankan President Anura Kumara Dissanayake took office in September. New Delhi and Colombo have worked to deepen ties as India’s southern neighbour recovers from a severe financial crisis triggered in 2022, during which India provided $4 billion in financial assistance. Saturday’s agreement boosts New Delhi’s competition with China, whose state energy firm Sinopec has signed a deal to build a $3.2-billion oil refinery in the southern port city of Hambantota. The energy hub in the strategically important city of Trincomalee, a natural harbour in the Sri Lanka’s east, will involve construction of a multi-product pipeline and may include using a World War II tank farm partly held by the Sri Lankan subsidiary of Indian Oil Corp, Indian Foreign Secretary Vikram Misri told reporters in Colombo. “The UAE is a strategic partner for India in the energy space and therefore was an ideal partner for this exercise that is being done for the first time in the region,” Misri said. “The exact contours of the UAE’s role will be elaborated once the business-to-business discussions kick off.” The three nations will next choose business entities that will consider the financing and feasibility of projects for the hub, he said. Modi also inaugurated a $100-million solar power project, a joint venture between Ceylon Electricity Board and India’s National Thermal Power Corp. India and Sri Lanka also concluded their debt restructuring process, Misri said. Sri Lanka owes about $1.36 billion in loans to the Exim Bank of India and State Bank of India, according to Sri Lankan Finance Ministry data. Colombo began restructuring talks after it defaulted on its debt in May 2022, signing a preliminary deal with bilateral creditors Japan, India and China last June. India and Sri Lanka also signed pacts on power grid connectivity, digitisation, security and healthcare.', 'image': 'https://static.bangkokpost.com/media/content/20250405/c1_2996402_250405190756_700.jpg', 'site_url': 'https://www.bangkokpost.com/world/2996402/india-and-uae-to-develop-sri-lanka-energy-hub', 'publish_date': '5 Apr 2025', 'publish_time': '19:03'}\n",
      "Fetching: https://www.bangkokpost.com/world/2996386/usaid-team-fired-during-myanmar-quake-mission\n",
      "Response: <Response [200]>\n",
      "Count =  2 {'title': 'USAID team fired during Myanmar quake mission', 'description': 'Three US aid workers were laid off while in Myanmar helping the rescue and recovery from the country&rsquo;s massive earthquake, a former senior staffer said, as the Trump administration&rsquo;s dismantling of foreign aid affects its disaster response.', 'content': 'Three US aid workers were laid off while in Myanmar helping the rescue and recovery from the country’s massive earthquake, a former senior staffer said, as the Trump administration’s dismantling of foreign aid affects its disaster response. After travelling to the Southeast Asian country, the three staff were told late this week that they would be let go, Marcia Wong, a former official at the US Agency for International Development (USAID), told Reuters. “This team is working incredibly hard, focussed on getting humanitarian aid to those in need. To get news of your imminent termination — how can that not be demoralising?” said Wong, former deputy administrator of the agency’s Bureau for Humanitarian Assistance, which oversees Washington’s disease response efforts overseas. President Donald Trump’s government has pledged at least $9 million to Myanmar after the magnitude-7.7 quake, which has killed more than 3,300 people. But his administration’s massive cuts to USAID have hindered its ability to respond, while China, Russia, India and other nations have rushed in assistance. The Trump administration has moved to fire nearly all USAID staff in recent weeks, as billionaire Elon Musk’s Department of Government Efficiency has slashed funding and dismissed contractors across the federal bureaucracy in what it calls an attack on wasteful spending. The three USAID workers have been sleeping on the streets in the earthquake zone, Wong said, adding that their terminations would take effect in a few months. Many residents have been sleeping outside for fear of aftershocks and further building collapses. Wong said she is in contact with remaining USAID staff and that she heard about the terminations after an all-staff meeting on Friday. Former staff say most of the people who would have coordinated the response have been let go, while third-party implementing partners have lost contracts. \\xa0 The US State Department did not immediately respond to a request for comment. Secretary of State Marco Rubio on Friday rejected criticism that Washington was slow to respond to the March 28 earthquake because USAID was dismantled. Rather, he told reporters in Brussels, Myanmar was not “the easiest place to work”, saying the military government does not like the United States and prevents it from operating in the country as it wants to. The United Nations has said the junta was limiting humanitarian aid. Rubio said the US would no longer be the world’s top humanitarian donor, accounting for what he estimated was 70% of all global relief funding. He has called on other wealthy nations to step up in assisting Myanmar.', 'image': 'https://static.bangkokpost.com/media/content/20250405/c1_2996386_250405180735_700.jpg', 'site_url': 'https://www.bangkokpost.com/world/2996386/usaid-team-fired-during-myanmar-quake-mission', 'publish_date': '5 Apr 2025', 'publish_time': '18:02'}\n",
      "Fetching: https://www.bangkokpost.com/world/2996376/manila-sees-beijings-arrests-of-spies-as-retaliation\n",
      "Response: <Response [200]>\n",
      "Count =  3 {'title': 'Manila sees Beijing’s arrests of ‘spies’ as retaliation', 'description': 'The Philippines said the detention of three Filipinos in China for alleged espionage may be in retaliation for Manila&rsquo;s recent arrests of Chinese nationals accused of spying.', 'content': 'The Philippines said the detention of three Filipinos in China for alleged espionage may be in retaliation for Manila’s recent arrests of Chinese nationals accused of spying. The Filipinos were former scholars of the Hainan provincial government under an agreement with Palawan province in the Philippines, the National Security Council said in a statement on Saturday without identifying the individuals. They have no military training “with no criminal records and were vetted and screened by the Chinese government prior to their arrival there”, it said. “Given the limited information released by Chinese media, the arrests can be seen as a retaliation for the series of legitimate arrests of Chinese agents and accomplices by Philippine law enforcement and counter-intelligence agencies in recent months,” the statement read. Beijing said on Thursday that it had detained three Filipinos who it claimed were operatives for Manila and carried out secret intelligence tasks in China. It said the espionage case against David Servañez, Albert Endencia and Nathalie Plizardo is under investigation. The latest flare-up could heighten tensions between the two countries that are already engaged in a territorial dispute in the South China Sea, as Manila pushes back against Beijing’s expansive claims in the resource-rich waterway. Philippine authorities arrested several Chinese nationals earlier this year for alleged espionage, including six last month who were suspected of carrying out intelligence and surveillance operations of critical infrastructure in the country. President Ferdinand Marcos Jr earlier said he was “very disturbed” over the increasing number of alleged Chinese spies arrested in the Philippines, which has prompted security officials to tighten monitoring. The Philippines’ security council said that a video released by China’s state broadcaster in which the three Filipinos expressed regret “appear to be scripted, strongly suggesting that (the confessions) were not made freely”. The security council said it was working with the Department of Foreign Affairs and the Philippine embassy in Beijing to ensure that the Filipinos receive appropriate legal support and are accorded due process. “We urge the Chinese government to respect their rights and afford them every opportunity to clear their names in the same way that the rights of Chinese nationals are respected here in the Philippines,” it added.', 'image': 'https://static.bangkokpost.com/media/content/20250405/c1_2996376_250405162825_700.jpg', 'site_url': 'https://www.bangkokpost.com/world/2996376/manila-sees-beijings-arrests-of-spies-as-retaliation', 'publish_date': '5 Apr 2025', 'publish_time': '16:27'}\n",
      "Fetching: https://www.bangkokpost.com/thailand/general/2996356/din-daeng-toll-plaza-closing-at-night-from-saturday-to-monday\n",
      "Response: <Response [200]>\n",
      "Count =  4 {'title': 'Din Daeng toll plaza closing at night from Saturday to Monday', 'description': 'The inbound and outbound lanes of the Din Daeng toll plaza on the Chalerm Maha Nakhon Expressway in Bangkok will be closed at night from Saturday until Monday to accommodate the removal of a construction crane tower that was damaged in the March 28 earthquake .', 'content': 'The inbound and outbound lanes of the Din Daeng toll plaza on the Chalerm Maha Nakhon Expressway in Bangkok will be closed at night from Saturday until Monday to accommodate the removal of a construction crane tower that was damaged in the March 28 earthquake. The Expressway Authority of Thailand (Exat) said the closure would take place from 10pm to 6am on April 5-7. The crane tower in question was being used at the Aspire Vibha-Victory condominium project site and its collapse also affected the expressway, Exat said on its Facebook page. Exat apologised for any inconvenience and advised motorists to use the following alternative routes. Outbound: Vehicles travelling on the Chalerm Maha Nakhon Expressway from Rama V Road (Bon Kai) should use the Si Rat Expressway heading towards Phahon Yothin Road (Victory Monument) exit or the Rama IX (Ratchada) exit to enter Din Daeng and Vibhavadi roads. Vehicles travelling on the Si Rat Expressway should use the Ploenchit exit (north side) to reach Asok Road and head towards Din Daeng and Vibhavadi roads. Inbound: Vehicles heading to Bang Na should use the Si Rat Expressway at the Bang Sue toll plaza in front of Mor Chit Bus Terminal 2 or Klong Prapa 2 toll plaza in front of the Ministry of Finance. The damaged crane tower is seen at the Aspire Vibha-Victory condominium construction site in Din Daeng district of Bangkok on March 29. (Photo: Din Daeng District Office Facebook page)', 'image': 'https://static.bangkokpost.com/media/content/20250405/c1_2996356_700.jpg', 'site_url': 'https://www.bangkokpost.com/thailand/general/2996356/din-daeng-toll-plaza-closing-at-night-from-saturday-to-monday', 'publish_date': '5 Apr 2025', 'publish_time': '15:42'}\n",
      "Fetching: https://www.bangkokpost.com/thailand/general/2996392/chinese-tourist-found-dead-on-pattaya-beach\n",
      "Response: <Response [200]>\n",
      "Count =  5 {'title': 'Chinese tourist found dead on Pattaya beach', 'description': 'A Chinese tourist holding a Thailand Privilege Card visa was found dead on a beach in Pattaya on Saturday morning, with some bruises on his forehead and neck.', 'content': 'A Chinese tourist holding a Thailand Privilege Card visa was found dead on a beach in Pattaya on Saturday morning, with some bruises on his forehead and neck. The body of the 40-year-old man, whose name was withheld pending notification of relatives, was found lying face-down on Yin Yom beach behind a hotel in South Pattaya, said Pol Lt Col Saijai Khamjulla, investigation inspector at the Pattaya City police station, who was alerted at 7.30am. Wearing a white T-shirt and jeans, the man had some bruises — one on his forehead and one on his neck. His right eye socket was fractured and there were traces of blood from his nostrils, according to an initial examination. A doctor believed he had died at least six to 12 hours before the body was discovered. A mobile phone and a slipper were found near his body. A passport and a bank passbook showing 60,000 baht cash were found on his body. According to police, a hotel staff member was cleaning the beach area behind the hotel and saw the man lying face-down in the sand. She immediately alerted police and said the man was not a guest of the hotel. An immigration record check showed the man entered Thailand on a tourist visa under the Thailand Privilege Card scheme for wealthy frequent visitors. He first entered the kingdom in 2023 and travelled in and out of the country frequently. His last reported address was in the seaside village of Jomtien, about 2-3 kilometres from where the body was found. Pol Col Anek Srathongyu, chief of the Pattaya City station, said the exact cause of death had not yet been established. The report of the doctor who examined the body said it was possible that the deceased had slipped and fallen, with his head striking a rock, causing him to lose consciousness. He might have later drowned in the sea, said the police chief. The body would be sent to Police General Hospital in Bangkok for a full autopsy to establish the cause of death, said Pol Col Anek.', 'image': 'https://static.bangkokpost.com/media/content/20250405/c1_2996392_700.jpg', 'site_url': 'https://www.bangkokpost.com/thailand/general/2996392/chinese-tourist-found-dead-on-pattaya-beach', 'publish_date': '5 Apr 2025', 'publish_time': '18:24'}\n",
      "Fetching: https://www.bangkokpost.com/thailand/general/2996349/steel-samples-at-building-collapse-site-sent-for-testing\n",
      "Response: <Response [200]>\n",
      "Count =  6 {'title': 'Steel samples at building collapse site sent for testing', 'description': 'Two government agencies have collected samples of different sizes of steel bars from the site of the collapsed State Audit Office building in Bangkok and sent them for lab testing to verify whether they met standards.', 'content': 'Two government agencies have collected samples of different sizes of steel bars from the site of the collapsed\\xa0State Audit Office building in Bangkok and sent them for lab testing to verify whether they met standards. Officers from the Central Police Forensic Science Division and officials from the Department of Public Works and Town Planning jointly collected random samples from Zones A, B, C and D at the site in Chatuchak district. They have been sent to the Iron and Steel Institute of Thailand for lab tests, said Pol Maj Gen Vathee Assawuttamangkul, commander of the police forensic unit. The under-construction 30-storey building was the only high-rise in Bangkok to collapse after the earthquake that struck Myanmar on March 28. The Institute earlier conducted tests on samples of two different sizes of steel bars collected from the site, and said they were not up to standard. The steel in question was traced to a Chinese-owned factory in Rayong that had been shuttered since January for other violations, officials said. The two agencies plan to enter the site again to collect samples of concrete slabs or further examination. For the time being, samples of concrete debris could not be collected because workers are still digging at the site where dozens of people were trapped, said Pol Maj Gen Vathee. On Thursday, Prime Minister Paetongtarn Shinawatra acknowledged that substandard steel might have been used in the construction of the building. The Ministry of Industry is also inspecting various steel samples, she said. With hope fading that any of the 79 people believed trapped in the rubble might be found alive, authorities on Friday decided to bring in heavy equipment to start clearing the debris more quickly. Earlier, there had been concerns about the stability of the site and possible impact from vibrations caused by machinery, which might endanger searchers and those trapped. Bangkok governor Chadchart Sittipunt announced the decision after rescue workers were unable to reach areas where they believed survivors might be found due to heavy piles of debris obstructing their progress. He said that using heavy machinery would also facilitate evidence-gathering for ongoing investigations. Fifteen people — 8 men and 7 women — have been confirmed dead from the collapse so far, the Bangkok Metropolitan Administration reported on Saturday. Nine survivors have been rescued and 79 people are still trapped.', 'image': 'https://static.bangkokpost.com/media/content/20250405/c1_2996349_700.jpg', 'site_url': 'https://www.bangkokpost.com/thailand/general/2996349/steel-samples-at-building-collapse-site-sent-for-testing', 'publish_date': '5 Apr 2025', 'publish_time': '15:06'}\n",
      "Fetching: https://www.bangkokpost.com/world/2996339/trumps-global-baseline-tariff-takes-effect\n",
      "Response: <Response [200]>\n",
      "Count =  7 {'title': 'Trump’s global ‘baseline’ tariff takes effect', 'description': 'WASHINGTON - US President Donald Trump&rsquo;s widest-ranging tariffs to date began to take effect on Saturday, in a move that could trigger retaliation and escalating trade tensions that could upset the global economy.', 'content': 'WASHINGTON - US President Donald Trump’s widest-ranging tariffs to date began to take effect on Saturday, in a move that could trigger retaliation and escalating trade tensions that could upset the global economy. A 10% “baseline” tariff came into place past midnight, hitting most US imports except goods from Mexico and Canada, as Trump invoked emergency economic powers to address perceived problems with the country’s trade deficits. The trade gaps, said the White House, were driven by an “absence of reciprocity” in relationships and other policies like “exorbitant value-added taxes”. Come April 9, around 60 trading partners — including the European Union, Japan and China — are set to face even higher rates tailored to each economy. Already, Trump’s sharp 34% tariff on Chinese goods, set to kick in next week, triggered Beijing’s announcement of its own 34% tariff on US products from April 10. Beijing also said it would sue the United States at the World Trade Organization and restrict export of rare earth elements used in high-end medical and electronics technology. But other major trading partners held back as they digested the unfolding international standoff and fears of a recession. Trump warned Friday on social media that “China played it wrong,” saying this was something “they cannot afford to do.” Wall Street went into freefall on Friday, following similar collapses in Asia and Europe. Economists have also warned that the tariffs could dampen growth and fuel inflation. But Trump said on his Truth Social platform that his “policies will never change.” Trump’s latest tariffs have notable exclusions, however. They do not stack on recently imposed 25% tariffs hitting imports of steel, aluminum and automobiles. Also temporarily spared are copper, pharmaceuticals, semiconductors and lumber, alongside “certain critical minerals” and energy products, the White House said. But Trump has ordered investigations into copper and lumber, which could lead to further duties soon. He has threatened to hit other industries like pharmaceuticals and semiconductors as well, meaning any reprieve might be limited. Canada and Mexico are unaffected as they face separate duties of up to 25% on goods entering the United States outside a North America trade agreement. While Trump’s staggered deadlines allow space for countries to negotiate, “if they can’t get a reprieve, they are likely to retaliate, as China already has,” Oxford Economics warned this week. EU trade chief Maros Sefcovic said the bloc, which faces a 20% tariff, will act in “a calm, carefully phased, unified way” and allow time for talks. But he said it “won’t stand idly by.” France and Germany have said the EU could respond by imposing a tax on US tech companies. Japan’s prime minister called for a “calm-headed” approach after Trump unveiled 24% tariffs on Japanese-made goods. Meanwhile, Trump said he held a “very productive” call with Vietnam’s top leader, with imports from the Southeast Asian manufacturing hub facing extraordinary 46% US duties. Since returning to the presidency, Trump has hit Canada and Mexico imports with tariffs over illegal immigration and fentanyl, and imposed an additional 20% rate on goods from China. Come April 9, the added levy on Chinese products this year reaches 54%. Trump’s 25% auto tariffs also took effect this week, and Jeep-owner Stellantis paused production at some Canadian and Mexican assembly plants. Trump’s new global levies mark “the most sweeping tariff hike since the Smoot-Hawley Tariff Act, the 1930 law best remembered for triggering a global trade war and deepening the Great Depression,” said the Center for Strategic and International Studies. Oxford Economics estimates the action will push the average effective US tariff rate to 24%, “higher even than those seen in the 1930s.”', 'image': 'https://static.bangkokpost.com/media/content/20250405/c1_5543544_700.jpg', 'site_url': 'https://www.bangkokpost.com/world/2996339/trumps-global-baseline-tariff-takes-effect', 'publish_date': '5 Apr 2025', 'publish_time': '11:45'}\n",
      "Fetching: https://www.bangkokpost.com/thailand/politics/2996304/about-politics-nominees-feel-the-blues\n",
      "Response: <Response [200]>\n",
      "Count =  8 {'title': 'ABOUT POLITICS: Nominees feel the blues', 'description': 'The majority \"blue\" group of senators wields considerable power to pick or reject proposed appointees for independent agencies, and a recent, futile attempt to name replacements for two outgoing judges in the Constitutional Court shows this.', 'content': 'The majority \"blue\" group of senators wields considerable power to pick or reject proposed appointees for independent agencies, and a recent, futile attempt to name replacements for two outgoing judges in the Constitutional Court shows this. A test of the Senate\\'s formidable authority came recently when the chamber convened a meeting to find two new judges to succeed outgoing Constitutional Court judges Nakharin Mektrairat, the court\\'s president, and Panya Udchanon. Earmarked as their replacements were Siripan Nogsuan Sawasdee, a political science professor at Chulalongkorn University, and Chatri Atjananont, a former director-general of the Department of Consular Affairs. Both had sailed through the selection process conducted by an ad hoc committee headed by Supreme Court president Chanakarn Theeravechpolkul. The committee also included House Speaker Wan Muhamad Noor Matha and opposition leader Natthaphong Ruengpanyawut. The two contenders were tipped to clinch the court posts. However, ominous signs emerged at the onset of the Senate meeting, which immediately took a dramatic turn. Outspoken senator Nanthana Nanthawaropas asserted the beleaguered Senate had no business approving judge appointments. In fact, the meeting should have been suspended pending a Department of Special Investigation (DSI) probe into the alleged rigging of the Senate elections. She feared any Constitutional Court judges greenlighted by the Senate would be nullified later if and when the poll rigging case is found to have substance and a number of senators are disqualified. Sen Nanthana\\'s statement, however, drew the ire of the majority, \"blue-affiliated\" senators who insisted on pushing ahead with the selections, citing legal risks the Senate could face for dereliction of duty if it failed to hold the vote. Blue is the colour that is associated with the coalition Bhumjaithai Party. An observer said Sen Nanthana, who tends to align politically with the \"orange\" camp -- the main opposition People\\'s Party -- had yet another verbal showdown with the blue senators. The meeting was rocked by heated exchanges, with Sen Boonchan Nualsai retorting that the DSI\\'s allegations had not been proven in a court of law. The Senate, therefore, had the rightful duty to fulfill its lawmaking and appointment responsibilities. Sen Wuthichart Kalayanamitr, secretary to the Senate whip, said no injunction had been issued to suspend the Senate and that its judicial appointments fully complied with regulations and the constitution. \"It\\'s as clear as day that the Senate has done nothing outside of what the constitution allows. People can tell that we play by the rules,\" he told the meeting. The debate then turned to the qualifications and backgrounds of the two judge candidates, with many, notably minority senators such as Angkana Neelapaijit, Ratchaneekorn Thongthip, and Dr Premsak Piayura, generally satisfied with the candidates\\' credentials. The atmosphere cooled when the chamber agreed to proceed with the meeting behind closed doors and further discuss \"delicate issues\" surrounding the qualifications of the two contenders. The Senate ended the meeting in the early afternoon when Senate Speaker Mongkol Surasajja called for a vote, which resulted in both candidates missing out on the posts. It was reported the two candidates did not strike a chord with the majority \"blue-affiliated\" senators, who refused to back them. The candidates were dealt a crushing blow in a vote in which Ms Siripan received an approval vote of 43 against 136, with seven abstentions and one no vote. Mr Chatri had 47 votes in favour, 115 against, 22 abstentions, and three did not register to vote. Both fell way short of securing half the Senate\\'s support, or at least 100 votes, the minimum requirement. Ms Siripan was criticised for signing a mass petition seeking to amend Section 112 of the Criminal Code, or the lese majeste law. In a letter to the Senate panel vetting the qualifications of nominees, she explained she was merely exercising her right to voice her academic view. She also responded to a Senate query on her stance on the imposition of strict ethical standards for political officeholders, which has been blamed for Srettha Thavisin\\'s dismissal as prime minister. The Constitutional Court dismissed him in August last year over an ethical violation related to the appointment of Pichit Chuenban as a minister. Even though Mr Chatri, a career diplomat, has the image of a politically neutral technocrat, he was not the \"blue\" senators\\' choice from the outset. They reportedly favoured Sarawut Songsivilai, a former Highways Department chief, and Surachai Khan-arsa, a former governor of several provinces. Neither made the cut in the selection process. Meanwhile, Ms Siripan made several noteworthy points when she showcased her vision in the candidacy selection process, according to a source. She emphasised that the explanations furnished and rulings passed by the Constitutional Court should strictly and explicitly adhere to the letter of the constitution to prevent broad interpretations. The academic observed that since a definition of ethics and moral integrity has often been sought, any such definition must be brief and kept within a narrow scope. This would enable people to have a correct understanding of the definition. Ms Siripan added that the Constitutional Court should do its duty and invoke its power in a way that opens up an avenue for hearing \"everyday\" cases. The court should forge a closer relationship with the people, which would bode well for its relevance and accessibility. Parit: \\'Public wary of casino deal\\' The Paetongtarn Shinawatra administration recently endorsed the Casino and Entertainment Complex Bill without dissent from any of its coalition partners, not even the Bhumjaithai Party, which had staunchly opposed the idea. Just last August, Chaichanok Chidchob, the Bhumjaithai Party secretary-general, publicly denounced the project, citing four key concerns. First the casino-entertainment scheme would never resolve the issue of illegal gambling and could actually increase both underground and legal betting; second, there\\'s no clear indication as to how the state and the public will benefit from the policy; third, the claim that it will drive tourism is unconvincing; and finally it fails to spell out exactly how Thai workers can secure jobs at the casinos. To date, the government has not amended the bill to address these concerns, according to observers, who are now wondering what exactly made Bhumjaithai change its stance. A similar question is also being raised about another coalition partner, the Democrats, who even called for a referendum on whether such a law should exist at all. Chaichana Detdecho, deputy secretary-general of the Democrat Party, was quoted as saying back in August that the party would not support the bill. He proposed that if the government wanted to boost state revenue, it could do so by legalising and taxing long-existing underground lotteries. Now there is no pushback from the Democrat heavyweights either. What changed? The bill is tentatively scheduled for an April 9 parliament meeting, just a day before the current parliament session takes a break. With a long queue of legislative drafts pending House scrutiny, the government needs a good reason to reprioritise and secure a place for the bill\\'s first reading. According to observers, Bhumjaithai\\'s silence has set off alarm bells and fueled speculation of a backroom deal between the two coalition heavyweights. Parit Wacharasindhu, a People\\'s Party (PP) MP, said he raised concerns during the no-confidence debate that the public was increasingly wary about a deal being struck among coalition partners over the project. He pointed out that the bill gives power to the Ministry of Interior, currently supervised by Bhumjaithai Party leader Anutin Charnvirakul, to consider issues related to gambling licences. The opposition MP questioned where the issue is heading -- possibly the legalisation of online gambling in exchange for a casino-entertainment complex? However, Olarn Thinbangtieo, a political science lecturer at Burapha University, said the government\\'s push for this bill seems more about political timing as the censure debate has already ended. With the prime minister easily surviving the no-confidence motion and coalition unity at an all-time high, Pheu Thai is seizing the moment to fast-track its agenda, he said. But the real test begins when the bill is scrutinised in the House, and Bhumjaithai, despite its silence, could use the bill to leverage political negotiations with the ruling party. Moreover, proposed revisions can be expected during the vetting process, with some coalition parties likely to distance themselves by claiming their MPs have the right to vote independently, he said. Under the bill, Thai punters must pay a fee of 5,000 baht and show proof they have at least 50 million baht in their bank account to enter a casino. But details of the bill are not set in stone, as parliament has the final say. \"We\\'ll have to see how this plays out. And even if the bill clears the House, there\\'s still another major hurdle -- the Senate,\" Mr Olarn said. The majority of senators are believed to be closely aligned with Bhumjaithai. Thanaporn Sriyakul, director of the Political and Public Policy Analysis Institute, said Pheu Thai and Bhumjaithai appear to have thrashed out their differences. Turning Buri Ram, the Bhumjaithai Party\\'s stronghold, into an entertainment hub would be a breeze as the province is already a sports city boasting the Buriram International Circuit and a football stadium. With a water or theme park and a casino which is capped at 10% of the total area, it would become a fully integrated entertainment complex, according to Mr Thanaporn. Ms Paetongtarn is scheduled to visit Buri Ram next week, fuelling speculation about a done deal. \"It\\'s a clear signal that an agreement has been reached. No matter what people in other provinces think, as long as Buri Ram benefits, that seems to be all that matters,\" Mr Thanaporn said. According to Deputy Finance Minister Julapun Amornvivat, the government aims to push the draft bill through parliament during the current session and the entire process, from drafting to final approval, is expected to take about a year.', 'image': 'https://static.bangkokpost.com/media/content/dcx/2025/04/05/5543184_700.jpg', 'site_url': 'https://www.bangkokpost.com/thailand/politics/2996304/about-politics-nominees-feel-the-blues', 'publish_date': '5 Apr 2025', 'publish_time': '12:06'}\n"
     ]
    }
   ],
   "source": [
    "news=[]\n",
    "sleep_for=5\n",
    "count=0\n",
    "for link in links:\n",
    "    time.sleep(sleep_for)  # import time\n",
    "    target=\"https://www.bangkokpost.com\" + link\n",
    "    print(\"Fetching: \"+target)\n",
    "    response= safe_get(target)\n",
    "    print(\"Response: \"+str(response))\n",
    "    if response is not None:\n",
    "        soup = BeautifulSoup(response.text, \"html.parser\")\n",
    "        data = get_data(soup)\n",
    "        print(\"Count = \",count,data)\n",
    "        news.append(data)\n",
    "        count+=1\n"
   ]
  },
  {
   "cell_type": "code",
   "execution_count": 11,
   "id": "a9e2628b",
   "metadata": {},
   "outputs": [
    {
     "data": {
      "text/plain": [
       "[{'title': 'UK couple happy to be home after Thailand ordeal',\n",
       "  'description': 'A British couple whose Thailand retirement dream turned into a nightmare are back home and say they &ldquo;couldn&rsquo;t be happier&rdquo; as they prepare to rebuild their lives.',\n",
       "  'content': 'A British couple whose Thailand retirement dream turned into a nightmare are back home and say they “couldn’t be happier” as they prepare to rebuild their lives. “I wish we’d never gone to Thailand but we can’t turn the clock back and Des and I are going to have a wonderful retirement together,” Mary Byrne, 69, told the BBC. She and her husband Des, 77, were badly beaten by two neighbours after a property dispute in Hua Hin, where they had purchased a villa. They said they acted in self-defence but feared they would be jailed when Thai authorities said they and their assailants would all face charges. \\xa0 The incident took place in December 2023 but the charges were not laid until June last year. The couple’s passports were seized and they endured a months-long wait to learn of their fate. Last month the couple finally appeared in court, where they were fined and had their passports returned to them. They have now abandoned their plans to retire in Thailand and are instead looking at houses in Middlesbrough. “Being back in Middlesbrough and seeing the fabulous countryside, it’s absolutely wonderful,” Mrs Byrne told the BBC. “We couldn’t be happier.” Since getting back to England the couple have stayed with a family in Berkshire but plan to settle back on their native Teesside once they find a home. Mrs Byrne said: “We are recovering and coming home has made it so much easier. We’re elated, the emotions are so high at being back at home.”',\n",
       "  'image': 'https://static.bangkokpost.com/media/content/20250405/c1_2996427_700.jpg',\n",
       "  'site_url': 'https://www.bangkokpost.com/thailand/general/2996427/uk-couple-happy-to-be-home-after-thailand-ordeal',\n",
       "  'publish_date': '5 Apr 2025',\n",
       "  'publish_time': '20:20'},\n",
       " {'title': 'India and UAE to develop Sri Lanka energy hub',\n",
       "  'description': 'COLOMBO - India and the United Arab Emirates have agreed to develop an energy hub in Sri Lanka, the Indian foreign ministry said on Saturday, as New Delhi&rsquo;s competition with China grows in the Indian Ocean island nation.',\n",
       "  'content': 'COLOMBO - India and the United Arab Emirates have agreed to develop an energy hub in Sri Lanka, the Indian foreign ministry said on Saturday, as New Delhi’s competition with China grows in the Indian Ocean island nation. The three nations signed the pact for the hub during Indian Prime Minister Narendra Modi’s visit to Sri Lanka, the first by a global leader since Sri Lankan President Anura Kumara Dissanayake took office in September. New Delhi and Colombo have worked to deepen ties as India’s southern neighbour recovers from a severe financial crisis triggered in 2022, during which India provided $4 billion in financial assistance. Saturday’s agreement boosts New Delhi’s competition with China, whose state energy firm Sinopec has signed a deal to build a $3.2-billion oil refinery in the southern port city of Hambantota. The energy hub in the strategically important city of Trincomalee, a natural harbour in the Sri Lanka’s east, will involve construction of a multi-product pipeline and may include using a World War II tank farm partly held by the Sri Lankan subsidiary of Indian Oil Corp, Indian Foreign Secretary Vikram Misri told reporters in Colombo. “The UAE is a strategic partner for India in the energy space and therefore was an ideal partner for this exercise that is being done for the first time in the region,” Misri said. “The exact contours of the UAE’s role will be elaborated once the business-to-business discussions kick off.” The three nations will next choose business entities that will consider the financing and feasibility of projects for the hub, he said. Modi also inaugurated a $100-million solar power project, a joint venture between Ceylon Electricity Board and India’s National Thermal Power Corp. India and Sri Lanka also concluded their debt restructuring process, Misri said. Sri Lanka owes about $1.36 billion in loans to the Exim Bank of India and State Bank of India, according to Sri Lankan Finance Ministry data. Colombo began restructuring talks after it defaulted on its debt in May 2022, signing a preliminary deal with bilateral creditors Japan, India and China last June. India and Sri Lanka also signed pacts on power grid connectivity, digitisation, security and healthcare.',\n",
       "  'image': 'https://static.bangkokpost.com/media/content/20250405/c1_2996402_250405190756_700.jpg',\n",
       "  'site_url': 'https://www.bangkokpost.com/world/2996402/india-and-uae-to-develop-sri-lanka-energy-hub',\n",
       "  'publish_date': '5 Apr 2025',\n",
       "  'publish_time': '19:03'},\n",
       " {'title': 'USAID team fired during Myanmar quake mission',\n",
       "  'description': 'Three US aid workers were laid off while in Myanmar helping the rescue and recovery from the country&rsquo;s massive earthquake, a former senior staffer said, as the Trump administration&rsquo;s dismantling of foreign aid affects its disaster response.',\n",
       "  'content': 'Three US aid workers were laid off while in Myanmar helping the rescue and recovery from the country’s massive earthquake, a former senior staffer said, as the Trump administration’s dismantling of foreign aid affects its disaster response. After travelling to the Southeast Asian country, the three staff were told late this week that they would be let go, Marcia Wong, a former official at the US Agency for International Development (USAID), told Reuters. “This team is working incredibly hard, focussed on getting humanitarian aid to those in need. To get news of your imminent termination — how can that not be demoralising?” said Wong, former deputy administrator of the agency’s Bureau for Humanitarian Assistance, which oversees Washington’s disease response efforts overseas. President Donald Trump’s government has pledged at least $9 million to Myanmar after the magnitude-7.7 quake, which has killed more than 3,300 people. But his administration’s massive cuts to USAID have hindered its ability to respond, while China, Russia, India and other nations have rushed in assistance. The Trump administration has moved to fire nearly all USAID staff in recent weeks, as billionaire Elon Musk’s Department of Government Efficiency has slashed funding and dismissed contractors across the federal bureaucracy in what it calls an attack on wasteful spending. The three USAID workers have been sleeping on the streets in the earthquake zone, Wong said, adding that their terminations would take effect in a few months. Many residents have been sleeping outside for fear of aftershocks and further building collapses. Wong said she is in contact with remaining USAID staff and that she heard about the terminations after an all-staff meeting on Friday. Former staff say most of the people who would have coordinated the response have been let go, while third-party implementing partners have lost contracts. \\xa0 The US State Department did not immediately respond to a request for comment. Secretary of State Marco Rubio on Friday rejected criticism that Washington was slow to respond to the March 28 earthquake because USAID was dismantled. Rather, he told reporters in Brussels, Myanmar was not “the easiest place to work”, saying the military government does not like the United States and prevents it from operating in the country as it wants to. The United Nations has said the junta was limiting humanitarian aid. Rubio said the US would no longer be the world’s top humanitarian donor, accounting for what he estimated was 70% of all global relief funding. He has called on other wealthy nations to step up in assisting Myanmar.',\n",
       "  'image': 'https://static.bangkokpost.com/media/content/20250405/c1_2996386_250405180735_700.jpg',\n",
       "  'site_url': 'https://www.bangkokpost.com/world/2996386/usaid-team-fired-during-myanmar-quake-mission',\n",
       "  'publish_date': '5 Apr 2025',\n",
       "  'publish_time': '18:02'},\n",
       " {'title': 'Manila sees Beijing’s arrests of ‘spies’ as retaliation',\n",
       "  'description': 'The Philippines said the detention of three Filipinos in China for alleged espionage may be in retaliation for Manila&rsquo;s recent arrests of Chinese nationals accused of spying.',\n",
       "  'content': 'The Philippines said the detention of three Filipinos in China for alleged espionage may be in retaliation for Manila’s recent arrests of Chinese nationals accused of spying. The Filipinos were former scholars of the Hainan provincial government under an agreement with Palawan province in the Philippines, the National Security Council said in a statement on Saturday without identifying the individuals. They have no military training “with no criminal records and were vetted and screened by the Chinese government prior to their arrival there”, it said. “Given the limited information released by Chinese media, the arrests can be seen as a retaliation for the series of legitimate arrests of Chinese agents and accomplices by Philippine law enforcement and counter-intelligence agencies in recent months,” the statement read. Beijing said on Thursday that it had detained three Filipinos who it claimed were operatives for Manila and carried out secret intelligence tasks in China. It said the espionage case against David Servañez, Albert Endencia and Nathalie Plizardo is under investigation. The latest flare-up could heighten tensions between the two countries that are already engaged in a territorial dispute in the South China Sea, as Manila pushes back against Beijing’s expansive claims in the resource-rich waterway. Philippine authorities arrested several Chinese nationals earlier this year for alleged espionage, including six last month who were suspected of carrying out intelligence and surveillance operations of critical infrastructure in the country. President Ferdinand Marcos Jr earlier said he was “very disturbed” over the increasing number of alleged Chinese spies arrested in the Philippines, which has prompted security officials to tighten monitoring. The Philippines’ security council said that a video released by China’s state broadcaster in which the three Filipinos expressed regret “appear to be scripted, strongly suggesting that (the confessions) were not made freely”. The security council said it was working with the Department of Foreign Affairs and the Philippine embassy in Beijing to ensure that the Filipinos receive appropriate legal support and are accorded due process. “We urge the Chinese government to respect their rights and afford them every opportunity to clear their names in the same way that the rights of Chinese nationals are respected here in the Philippines,” it added.',\n",
       "  'image': 'https://static.bangkokpost.com/media/content/20250405/c1_2996376_250405162825_700.jpg',\n",
       "  'site_url': 'https://www.bangkokpost.com/world/2996376/manila-sees-beijings-arrests-of-spies-as-retaliation',\n",
       "  'publish_date': '5 Apr 2025',\n",
       "  'publish_time': '16:27'},\n",
       " {'title': 'Din Daeng toll plaza closing at night from Saturday to Monday',\n",
       "  'description': 'The inbound and outbound lanes of the Din Daeng toll plaza on the Chalerm Maha Nakhon Expressway in Bangkok will be closed at night from Saturday until Monday to accommodate the removal of a construction crane tower that was damaged in the March 28 earthquake .',\n",
       "  'content': 'The inbound and outbound lanes of the Din Daeng toll plaza on the Chalerm Maha Nakhon Expressway in Bangkok will be closed at night from Saturday until Monday to accommodate the removal of a construction crane tower that was damaged in the March 28 earthquake. The Expressway Authority of Thailand (Exat) said the closure would take place from 10pm to 6am on April 5-7. The crane tower in question was being used at the Aspire Vibha-Victory condominium project site and its collapse also affected the expressway, Exat said on its Facebook page. Exat apologised for any inconvenience and advised motorists to use the following alternative routes. Outbound: Vehicles travelling on the Chalerm Maha Nakhon Expressway from Rama V Road (Bon Kai) should use the Si Rat Expressway heading towards Phahon Yothin Road (Victory Monument) exit or the Rama IX (Ratchada) exit to enter Din Daeng and Vibhavadi roads. Vehicles travelling on the Si Rat Expressway should use the Ploenchit exit (north side) to reach Asok Road and head towards Din Daeng and Vibhavadi roads. Inbound: Vehicles heading to Bang Na should use the Si Rat Expressway at the Bang Sue toll plaza in front of Mor Chit Bus Terminal 2 or Klong Prapa 2 toll plaza in front of the Ministry of Finance. The damaged crane tower is seen at the Aspire Vibha-Victory condominium construction site in Din Daeng district of Bangkok on March 29. (Photo: Din Daeng District Office Facebook page)',\n",
       "  'image': 'https://static.bangkokpost.com/media/content/20250405/c1_2996356_700.jpg',\n",
       "  'site_url': 'https://www.bangkokpost.com/thailand/general/2996356/din-daeng-toll-plaza-closing-at-night-from-saturday-to-monday',\n",
       "  'publish_date': '5 Apr 2025',\n",
       "  'publish_time': '15:42'},\n",
       " {'title': 'Chinese tourist found dead on Pattaya beach',\n",
       "  'description': 'A Chinese tourist holding a Thailand Privilege Card visa was found dead on a beach in Pattaya on Saturday morning, with some bruises on his forehead and neck.',\n",
       "  'content': 'A Chinese tourist holding a Thailand Privilege Card visa was found dead on a beach in Pattaya on Saturday morning, with some bruises on his forehead and neck. The body of the 40-year-old man, whose name was withheld pending notification of relatives, was found lying face-down on Yin Yom beach behind a hotel in South Pattaya, said Pol Lt Col Saijai Khamjulla, investigation inspector at the Pattaya City police station, who was alerted at 7.30am. Wearing a white T-shirt and jeans, the man had some bruises — one on his forehead and one on his neck. His right eye socket was fractured and there were traces of blood from his nostrils, according to an initial examination. A doctor believed he had died at least six to 12 hours before the body was discovered. A mobile phone and a slipper were found near his body. A passport and a bank passbook showing 60,000 baht cash were found on his body. According to police, a hotel staff member was cleaning the beach area behind the hotel and saw the man lying face-down in the sand. She immediately alerted police and said the man was not a guest of the hotel. An immigration record check showed the man entered Thailand on a tourist visa under the Thailand Privilege Card scheme for wealthy frequent visitors. He first entered the kingdom in 2023 and travelled in and out of the country frequently. His last reported address was in the seaside village of Jomtien, about 2-3 kilometres from where the body was found. Pol Col Anek Srathongyu, chief of the Pattaya City station, said the exact cause of death had not yet been established. The report of the doctor who examined the body said it was possible that the deceased had slipped and fallen, with his head striking a rock, causing him to lose consciousness. He might have later drowned in the sea, said the police chief. The body would be sent to Police General Hospital in Bangkok for a full autopsy to establish the cause of death, said Pol Col Anek.',\n",
       "  'image': 'https://static.bangkokpost.com/media/content/20250405/c1_2996392_700.jpg',\n",
       "  'site_url': 'https://www.bangkokpost.com/thailand/general/2996392/chinese-tourist-found-dead-on-pattaya-beach',\n",
       "  'publish_date': '5 Apr 2025',\n",
       "  'publish_time': '18:24'},\n",
       " {'title': 'Steel samples at building collapse site sent for testing',\n",
       "  'description': 'Two government agencies have collected samples of different sizes of steel bars from the site of the collapsed State Audit Office building in Bangkok and sent them for lab testing to verify whether they met standards.',\n",
       "  'content': 'Two government agencies have collected samples of different sizes of steel bars from the site of the collapsed\\xa0State Audit Office building in Bangkok and sent them for lab testing to verify whether they met standards. Officers from the Central Police Forensic Science Division and officials from the Department of Public Works and Town Planning jointly collected random samples from Zones A, B, C and D at the site in Chatuchak district. They have been sent to the Iron and Steel Institute of Thailand for lab tests, said Pol Maj Gen Vathee Assawuttamangkul, commander of the police forensic unit. The under-construction 30-storey building was the only high-rise in Bangkok to collapse after the earthquake that struck Myanmar on March 28. The Institute earlier conducted tests on samples of two different sizes of steel bars collected from the site, and said they were not up to standard. The steel in question was traced to a Chinese-owned factory in Rayong that had been shuttered since January for other violations, officials said. The two agencies plan to enter the site again to collect samples of concrete slabs or further examination. For the time being, samples of concrete debris could not be collected because workers are still digging at the site where dozens of people were trapped, said Pol Maj Gen Vathee. On Thursday, Prime Minister Paetongtarn Shinawatra acknowledged that substandard steel might have been used in the construction of the building. The Ministry of Industry is also inspecting various steel samples, she said. With hope fading that any of the 79 people believed trapped in the rubble might be found alive, authorities on Friday decided to bring in heavy equipment to start clearing the debris more quickly. Earlier, there had been concerns about the stability of the site and possible impact from vibrations caused by machinery, which might endanger searchers and those trapped. Bangkok governor Chadchart Sittipunt announced the decision after rescue workers were unable to reach areas where they believed survivors might be found due to heavy piles of debris obstructing their progress. He said that using heavy machinery would also facilitate evidence-gathering for ongoing investigations. Fifteen people — 8 men and 7 women — have been confirmed dead from the collapse so far, the Bangkok Metropolitan Administration reported on Saturday. Nine survivors have been rescued and 79 people are still trapped.',\n",
       "  'image': 'https://static.bangkokpost.com/media/content/20250405/c1_2996349_700.jpg',\n",
       "  'site_url': 'https://www.bangkokpost.com/thailand/general/2996349/steel-samples-at-building-collapse-site-sent-for-testing',\n",
       "  'publish_date': '5 Apr 2025',\n",
       "  'publish_time': '15:06'},\n",
       " {'title': 'Trump’s global ‘baseline’ tariff takes effect',\n",
       "  'description': 'WASHINGTON - US President Donald Trump&rsquo;s widest-ranging tariffs to date began to take effect on Saturday, in a move that could trigger retaliation and escalating trade tensions that could upset the global economy.',\n",
       "  'content': 'WASHINGTON - US President Donald Trump’s widest-ranging tariffs to date began to take effect on Saturday, in a move that could trigger retaliation and escalating trade tensions that could upset the global economy. A 10% “baseline” tariff came into place past midnight, hitting most US imports except goods from Mexico and Canada, as Trump invoked emergency economic powers to address perceived problems with the country’s trade deficits. The trade gaps, said the White House, were driven by an “absence of reciprocity” in relationships and other policies like “exorbitant value-added taxes”. Come April 9, around 60 trading partners — including the European Union, Japan and China — are set to face even higher rates tailored to each economy. Already, Trump’s sharp 34% tariff on Chinese goods, set to kick in next week, triggered Beijing’s announcement of its own 34% tariff on US products from April 10. Beijing also said it would sue the United States at the World Trade Organization and restrict export of rare earth elements used in high-end medical and electronics technology. But other major trading partners held back as they digested the unfolding international standoff and fears of a recession. Trump warned Friday on social media that “China played it wrong,” saying this was something “they cannot afford to do.” Wall Street went into freefall on Friday, following similar collapses in Asia and Europe. Economists have also warned that the tariffs could dampen growth and fuel inflation. But Trump said on his Truth Social platform that his “policies will never change.” Trump’s latest tariffs have notable exclusions, however. They do not stack on recently imposed 25% tariffs hitting imports of steel, aluminum and automobiles. Also temporarily spared are copper, pharmaceuticals, semiconductors and lumber, alongside “certain critical minerals” and energy products, the White House said. But Trump has ordered investigations into copper and lumber, which could lead to further duties soon. He has threatened to hit other industries like pharmaceuticals and semiconductors as well, meaning any reprieve might be limited. Canada and Mexico are unaffected as they face separate duties of up to 25% on goods entering the United States outside a North America trade agreement. While Trump’s staggered deadlines allow space for countries to negotiate, “if they can’t get a reprieve, they are likely to retaliate, as China already has,” Oxford Economics warned this week. EU trade chief Maros Sefcovic said the bloc, which faces a 20% tariff, will act in “a calm, carefully phased, unified way” and allow time for talks. But he said it “won’t stand idly by.” France and Germany have said the EU could respond by imposing a tax on US tech companies. Japan’s prime minister called for a “calm-headed” approach after Trump unveiled 24% tariffs on Japanese-made goods. Meanwhile, Trump said he held a “very productive” call with Vietnam’s top leader, with imports from the Southeast Asian manufacturing hub facing extraordinary 46% US duties. Since returning to the presidency, Trump has hit Canada and Mexico imports with tariffs over illegal immigration and fentanyl, and imposed an additional 20% rate on goods from China. Come April 9, the added levy on Chinese products this year reaches 54%. Trump’s 25% auto tariffs also took effect this week, and Jeep-owner Stellantis paused production at some Canadian and Mexican assembly plants. Trump’s new global levies mark “the most sweeping tariff hike since the Smoot-Hawley Tariff Act, the 1930 law best remembered for triggering a global trade war and deepening the Great Depression,” said the Center for Strategic and International Studies. Oxford Economics estimates the action will push the average effective US tariff rate to 24%, “higher even than those seen in the 1930s.”',\n",
       "  'image': 'https://static.bangkokpost.com/media/content/20250405/c1_5543544_700.jpg',\n",
       "  'site_url': 'https://www.bangkokpost.com/world/2996339/trumps-global-baseline-tariff-takes-effect',\n",
       "  'publish_date': '5 Apr 2025',\n",
       "  'publish_time': '11:45'},\n",
       " {'title': 'ABOUT POLITICS: Nominees feel the blues',\n",
       "  'description': 'The majority \"blue\" group of senators wields considerable power to pick or reject proposed appointees for independent agencies, and a recent, futile attempt to name replacements for two outgoing judges in the Constitutional Court shows this.',\n",
       "  'content': 'The majority \"blue\" group of senators wields considerable power to pick or reject proposed appointees for independent agencies, and a recent, futile attempt to name replacements for two outgoing judges in the Constitutional Court shows this. A test of the Senate\\'s formidable authority came recently when the chamber convened a meeting to find two new judges to succeed outgoing Constitutional Court judges Nakharin Mektrairat, the court\\'s president, and Panya Udchanon. Earmarked as their replacements were Siripan Nogsuan Sawasdee, a political science professor at Chulalongkorn University, and Chatri Atjananont, a former director-general of the Department of Consular Affairs. Both had sailed through the selection process conducted by an ad hoc committee headed by Supreme Court president Chanakarn Theeravechpolkul. The committee also included House Speaker Wan Muhamad Noor Matha and opposition leader Natthaphong Ruengpanyawut. The two contenders were tipped to clinch the court posts. However, ominous signs emerged at the onset of the Senate meeting, which immediately took a dramatic turn. Outspoken senator Nanthana Nanthawaropas asserted the beleaguered Senate had no business approving judge appointments. In fact, the meeting should have been suspended pending a Department of Special Investigation (DSI) probe into the alleged rigging of the Senate elections. She feared any Constitutional Court judges greenlighted by the Senate would be nullified later if and when the poll rigging case is found to have substance and a number of senators are disqualified. Sen Nanthana\\'s statement, however, drew the ire of the majority, \"blue-affiliated\" senators who insisted on pushing ahead with the selections, citing legal risks the Senate could face for dereliction of duty if it failed to hold the vote. Blue is the colour that is associated with the coalition Bhumjaithai Party. An observer said Sen Nanthana, who tends to align politically with the \"orange\" camp -- the main opposition People\\'s Party -- had yet another verbal showdown with the blue senators. The meeting was rocked by heated exchanges, with Sen Boonchan Nualsai retorting that the DSI\\'s allegations had not been proven in a court of law. The Senate, therefore, had the rightful duty to fulfill its lawmaking and appointment responsibilities. Sen Wuthichart Kalayanamitr, secretary to the Senate whip, said no injunction had been issued to suspend the Senate and that its judicial appointments fully complied with regulations and the constitution. \"It\\'s as clear as day that the Senate has done nothing outside of what the constitution allows. People can tell that we play by the rules,\" he told the meeting. The debate then turned to the qualifications and backgrounds of the two judge candidates, with many, notably minority senators such as Angkana Neelapaijit, Ratchaneekorn Thongthip, and Dr Premsak Piayura, generally satisfied with the candidates\\' credentials. The atmosphere cooled when the chamber agreed to proceed with the meeting behind closed doors and further discuss \"delicate issues\" surrounding the qualifications of the two contenders. The Senate ended the meeting in the early afternoon when Senate Speaker Mongkol Surasajja called for a vote, which resulted in both candidates missing out on the posts. It was reported the two candidates did not strike a chord with the majority \"blue-affiliated\" senators, who refused to back them. The candidates were dealt a crushing blow in a vote in which Ms Siripan received an approval vote of 43 against 136, with seven abstentions and one no vote. Mr Chatri had 47 votes in favour, 115 against, 22 abstentions, and three did not register to vote. Both fell way short of securing half the Senate\\'s support, or at least 100 votes, the minimum requirement. Ms Siripan was criticised for signing a mass petition seeking to amend Section 112 of the Criminal Code, or the lese majeste law. In a letter to the Senate panel vetting the qualifications of nominees, she explained she was merely exercising her right to voice her academic view. She also responded to a Senate query on her stance on the imposition of strict ethical standards for political officeholders, which has been blamed for Srettha Thavisin\\'s dismissal as prime minister. The Constitutional Court dismissed him in August last year over an ethical violation related to the appointment of Pichit Chuenban as a minister. Even though Mr Chatri, a career diplomat, has the image of a politically neutral technocrat, he was not the \"blue\" senators\\' choice from the outset. They reportedly favoured Sarawut Songsivilai, a former Highways Department chief, and Surachai Khan-arsa, a former governor of several provinces. Neither made the cut in the selection process. Meanwhile, Ms Siripan made several noteworthy points when she showcased her vision in the candidacy selection process, according to a source. She emphasised that the explanations furnished and rulings passed by the Constitutional Court should strictly and explicitly adhere to the letter of the constitution to prevent broad interpretations. The academic observed that since a definition of ethics and moral integrity has often been sought, any such definition must be brief and kept within a narrow scope. This would enable people to have a correct understanding of the definition. Ms Siripan added that the Constitutional Court should do its duty and invoke its power in a way that opens up an avenue for hearing \"everyday\" cases. The court should forge a closer relationship with the people, which would bode well for its relevance and accessibility. Parit: \\'Public wary of casino deal\\' The Paetongtarn Shinawatra administration recently endorsed the Casino and Entertainment Complex Bill without dissent from any of its coalition partners, not even the Bhumjaithai Party, which had staunchly opposed the idea. Just last August, Chaichanok Chidchob, the Bhumjaithai Party secretary-general, publicly denounced the project, citing four key concerns. First the casino-entertainment scheme would never resolve the issue of illegal gambling and could actually increase both underground and legal betting; second, there\\'s no clear indication as to how the state and the public will benefit from the policy; third, the claim that it will drive tourism is unconvincing; and finally it fails to spell out exactly how Thai workers can secure jobs at the casinos. To date, the government has not amended the bill to address these concerns, according to observers, who are now wondering what exactly made Bhumjaithai change its stance. A similar question is also being raised about another coalition partner, the Democrats, who even called for a referendum on whether such a law should exist at all. Chaichana Detdecho, deputy secretary-general of the Democrat Party, was quoted as saying back in August that the party would not support the bill. He proposed that if the government wanted to boost state revenue, it could do so by legalising and taxing long-existing underground lotteries. Now there is no pushback from the Democrat heavyweights either. What changed? The bill is tentatively scheduled for an April 9 parliament meeting, just a day before the current parliament session takes a break. With a long queue of legislative drafts pending House scrutiny, the government needs a good reason to reprioritise and secure a place for the bill\\'s first reading. According to observers, Bhumjaithai\\'s silence has set off alarm bells and fueled speculation of a backroom deal between the two coalition heavyweights. Parit Wacharasindhu, a People\\'s Party (PP) MP, said he raised concerns during the no-confidence debate that the public was increasingly wary about a deal being struck among coalition partners over the project. He pointed out that the bill gives power to the Ministry of Interior, currently supervised by Bhumjaithai Party leader Anutin Charnvirakul, to consider issues related to gambling licences. The opposition MP questioned where the issue is heading -- possibly the legalisation of online gambling in exchange for a casino-entertainment complex? However, Olarn Thinbangtieo, a political science lecturer at Burapha University, said the government\\'s push for this bill seems more about political timing as the censure debate has already ended. With the prime minister easily surviving the no-confidence motion and coalition unity at an all-time high, Pheu Thai is seizing the moment to fast-track its agenda, he said. But the real test begins when the bill is scrutinised in the House, and Bhumjaithai, despite its silence, could use the bill to leverage political negotiations with the ruling party. Moreover, proposed revisions can be expected during the vetting process, with some coalition parties likely to distance themselves by claiming their MPs have the right to vote independently, he said. Under the bill, Thai punters must pay a fee of 5,000 baht and show proof they have at least 50 million baht in their bank account to enter a casino. But details of the bill are not set in stone, as parliament has the final say. \"We\\'ll have to see how this plays out. And even if the bill clears the House, there\\'s still another major hurdle -- the Senate,\" Mr Olarn said. The majority of senators are believed to be closely aligned with Bhumjaithai. Thanaporn Sriyakul, director of the Political and Public Policy Analysis Institute, said Pheu Thai and Bhumjaithai appear to have thrashed out their differences. Turning Buri Ram, the Bhumjaithai Party\\'s stronghold, into an entertainment hub would be a breeze as the province is already a sports city boasting the Buriram International Circuit and a football stadium. With a water or theme park and a casino which is capped at 10% of the total area, it would become a fully integrated entertainment complex, according to Mr Thanaporn. Ms Paetongtarn is scheduled to visit Buri Ram next week, fuelling speculation about a done deal. \"It\\'s a clear signal that an agreement has been reached. No matter what people in other provinces think, as long as Buri Ram benefits, that seems to be all that matters,\" Mr Thanaporn said. According to Deputy Finance Minister Julapun Amornvivat, the government aims to push the draft bill through parliament during the current session and the entire process, from drafting to final approval, is expected to take about a year.',\n",
       "  'image': 'https://static.bangkokpost.com/media/content/dcx/2025/04/05/5543184_700.jpg',\n",
       "  'site_url': 'https://www.bangkokpost.com/thailand/politics/2996304/about-politics-nominees-feel-the-blues',\n",
       "  'publish_date': '5 Apr 2025',\n",
       "  'publish_time': '12:06'}]"
      ]
     },
     "execution_count": 11,
     "metadata": {},
     "output_type": "execute_result"
    }
   ],
   "source": [
    "news"
   ]
  },
  {
   "cell_type": "code",
   "execution_count": 12,
   "id": "9c0e923b",
   "metadata": {},
   "outputs": [
    {
     "name": "stdout",
     "output_type": "stream",
     "text": [
      "2025-04-05 20:20:00\n"
     ]
    }
   ],
   "source": [
    "from datetime import datetime\n",
    "\n",
    "publish_date = \"5 Apr 2025\"\n",
    "publish_time = \"20:20\"\n",
    "\n",
    "# Combine and parse into datetime\n",
    "dt = datetime.strptime(f\"{publish_date} {publish_time}\", \"%d %b %Y %H:%M\")\n",
    "\n",
    "print(dt)  # Output: 2025-04-05 20:20:00\n"
   ]
  },
  {
   "cell_type": "code",
   "execution_count": 13,
   "id": "71a08090",
   "metadata": {},
   "outputs": [
    {
     "data": {
      "text/plain": [
       "datetime.datetime"
      ]
     },
     "execution_count": 13,
     "metadata": {},
     "output_type": "execute_result"
    }
   ],
   "source": [
    "type(dt)"
   ]
  },
  {
   "cell_type": "code",
   "execution_count": 14,
   "id": "7c989aad",
   "metadata": {},
   "outputs": [
    {
     "name": "stdout",
     "output_type": "stream",
     "text": [
      "2025-04-05 20:20:00\n"
     ]
    }
   ],
   "source": [
    "dt=dt.strftime(\"%Y-%m-%d %H:%M:%S\")\n",
    "print(dt)  # Output: 2025-04-05 20:20:00"
   ]
  },
  {
   "cell_type": "code",
   "execution_count": 15,
   "id": "b550948d",
   "metadata": {},
   "outputs": [
    {
     "data": {
      "text/plain": [
       "str"
      ]
     },
     "execution_count": 15,
     "metadata": {},
     "output_type": "execute_result"
    }
   ],
   "source": [
    "type(dt)  # Output: <class 'datetime.datetime'>"
   ]
  },
  {
   "cell_type": "code",
   "execution_count": null,
   "id": "1c489575",
   "metadata": {},
   "outputs": [],
   "source": []
  }
 ],
 "metadata": {
  "kernelspec": {
   "display_name": "base",
   "language": "python",
   "name": "python3"
  },
  "language_info": {
   "codemirror_mode": {
    "name": "ipython",
    "version": 3
   },
   "file_extension": ".py",
   "mimetype": "text/x-python",
   "name": "python",
   "nbconvert_exporter": "python",
   "pygments_lexer": "ipython3",
   "version": "3.12.7"
  }
 },
 "nbformat": 4,
 "nbformat_minor": 5
}
