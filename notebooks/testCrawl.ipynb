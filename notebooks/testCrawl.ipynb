{
 "cells": [
  {
   "cell_type": "code",
   "execution_count": 1,
   "id": "f0d6f00c",
   "metadata": {},
   "outputs": [],
   "source": [
    "import requests\n",
    "import pandas as pd\n",
    "import re\n",
    "import bs4\n",
    "from bs4 import BeautifulSoup\n",
    "from requests.exceptions import RequestException\n",
    "import time"
   ]
  },
  {
   "cell_type": "code",
   "execution_count": 2,
   "id": "a8442dfe",
   "metadata": {},
   "outputs": [],
   "source": [
    "def safe_get(url):\n",
    "    try:\n",
    "        response = requests.get(url, timeout=30)\n",
    "        response.raise_for_status()  # Raise an error for HTTP errors (e.g., 404, 500)\n",
    "        return response\n",
    "    except RequestException as e:\n",
    "        print(f\"Error fetching {url}: {e}\")\n",
    "        return None"
   ]
  },
  {
   "cell_type": "code",
   "execution_count": 3,
   "id": "7dbddf8f",
   "metadata": {},
   "outputs": [],
   "source": [
    "def get_data(soup):\n",
    "    title=soup.find(\"meta\", {\"property\": \"og:title\"})[\"content\"]\n",
    "    if title:\n",
    "        title = title.strip()\n",
    "    else:\n",
    "        title=soup.title.string\n",
    "        index = title.find(\"-\")\n",
    "        if index != -1:\n",
    "            title = title[index+1:].strip()\n",
    "    \n",
    "    description = soup.find(\"meta\", {\"name\": \"description\"})\n",
    "    if description:\n",
    "        description = description.get(\"content\", \"\").strip()\n",
    "    else:\n",
    "        description = \"No description found\"\n",
    "        \n",
    "    image=soup.find(\"meta\", {\"property\": \"og:image\"})\n",
    "    if image:\n",
    "        image = image.get(\"content\", \"\").strip()\n",
    "    else:\n",
    "        image = \"\"\n",
    "        \n",
    "    site_url = soup.find(\"meta\", {\"property\": \"og:url\"})\n",
    "    if site_url:\n",
    "        site_url = site_url.get(\"content\", \"\").strip()\n",
    "    else:\n",
    "        site_url = \"\"\n",
    "    \n",
    "    paragraphs = soup.find(\"div\", class_=\"article-content\").find_all(\"p\")\n",
    "    if not paragraphs:\n",
    "        content=\"\"\n",
    "    else:\n",
    "        paragraph_texts = [p.get_text() for p in paragraphs]\n",
    "        content=\" \".join(paragraph_texts).strip()\n",
    "    \n",
    "    info=soup.find(\"div\", class_=\"article-info--col\").find_all(\"p\")[0].get_text()\n",
    "    if info:\n",
    "        info=info[info.find(\":\") + 1:].strip()\n",
    "        publish_date, publish_time=info.split(\"at\")\n",
    "    else:\n",
    "        publish_date = \"\"\n",
    "        publish_time = \"\"\n",
    "    return {\n",
    "        \"title\": title,\n",
    "        \"description\": description,\n",
    "        \"content\": content,\n",
    "        \"image\": image,\n",
    "        \"site_url\": site_url,\n",
    "        \"publish_date\": publish_date.strip(),\n",
    "        \"publish_time\": publish_time.strip()\n",
    "    }"
   ]
  },
  {
   "cell_type": "code",
   "execution_count": 4,
   "id": "7e6f18b6",
   "metadata": {},
   "outputs": [],
   "source": [
    "response = safe_get(\"https://www.bangkokpost.com/most-recent\")"
   ]
  },
  {
   "cell_type": "code",
   "execution_count": 5,
   "id": "b0de1b35",
   "metadata": {},
   "outputs": [],
   "source": [
    "if response is not None:\n",
    "    soup = BeautifulSoup(response.text, \"html.parser\")"
   ]
  },
  {
   "cell_type": "code",
   "execution_count": 6,
   "id": "13fdf7b5",
   "metadata": {},
   "outputs": [],
   "source": [
    "figures = soup.find(\"div\", class_=\"page--link\").find_all(\"figure\")\n",
    "links=[]\n",
    "for figure in figures:\n",
    "    link = figure.find(\"a\")\n",
    "    if link:\n",
    "        href = link.get(\"href\")\n",
    "        if href:\n",
    "            links.append(href.strip())\n",
    "links = list(set(links))  # Remove duplicates"
   ]
  },
  {
   "cell_type": "code",
   "execution_count": 7,
   "id": "75f78b94",
   "metadata": {},
   "outputs": [
    {
     "data": {
      "text/plain": [
       "['/thailand/general/2996892/no-signs-of-life-more-bodies-expected-at-collapsed-tower-bangkok-governor',\n",
       " '/world/2996902/frances-far-right-leftwingers-rally-supporters-after-le-pen-conviction',\n",
       " '/business/general/2996926/indonesia-will-not-retaliate-against-trump-tariff-official-says',\n",
       " '/business/general/2996861/us-vietnamese-businesses-ask-trump-to-delay-46-tariffs-on-vietnam',\n",
       " '/thailand/general/2996942/friendship-wont-taint-probe-into-bangkok-tower-collapse-anutin',\n",
       " '/world/2996917/recovering-pope-surprises-crowd-at-vatican-square',\n",
       " '/business/general/2996912/uk-readies-to-protect-industry-as-us-tariffs-upend-global-order-starmer',\n",
       " '/video/thailand/2996869/deeper-dive-thailand-vaping-debate-takeaways',\n",
       " '/thailand/politics/2996936/bhumjaithai-party-debuts-new-all-blue-logo']"
      ]
     },
     "execution_count": 7,
     "metadata": {},
     "output_type": "execute_result"
    }
   ],
   "source": [
    "links"
   ]
  },
  {
   "cell_type": "code",
   "execution_count": 8,
   "id": "fe241513",
   "metadata": {},
   "outputs": [
    {
     "name": "stdout",
     "output_type": "stream",
     "text": [
      "https://www.bangkokpost.com/thailand/general/2996892/no-signs-of-life-more-bodies-expected-at-collapsed-tower-bangkok-governor\n",
      "https://www.bangkokpost.com/world/2996902/frances-far-right-leftwingers-rally-supporters-after-le-pen-conviction\n",
      "https://www.bangkokpost.com/business/general/2996926/indonesia-will-not-retaliate-against-trump-tariff-official-says\n",
      "https://www.bangkokpost.com/business/general/2996861/us-vietnamese-businesses-ask-trump-to-delay-46-tariffs-on-vietnam\n",
      "https://www.bangkokpost.com/thailand/general/2996942/friendship-wont-taint-probe-into-bangkok-tower-collapse-anutin\n",
      "https://www.bangkokpost.com/world/2996917/recovering-pope-surprises-crowd-at-vatican-square\n",
      "https://www.bangkokpost.com/business/general/2996912/uk-readies-to-protect-industry-as-us-tariffs-upend-global-order-starmer\n",
      "https://www.bangkokpost.com/video/thailand/2996869/deeper-dive-thailand-vaping-debate-takeaways\n",
      "https://www.bangkokpost.com/thailand/politics/2996936/bhumjaithai-party-debuts-new-all-blue-logo\n"
     ]
    }
   ],
   "source": [
    "for link in links:\n",
    "    print(\"https://www.bangkokpost.com\" + link)"
   ]
  },
  {
   "cell_type": "code",
   "execution_count": null,
   "id": "105616bf",
   "metadata": {},
   "outputs": [
    {
     "ename": "AttributeError",
     "evalue": "'NoneType' object has no attribute 'find_all'",
     "output_type": "error",
     "traceback": [
      "\u001b[1;31m---------------------------------------------------------------------------\u001b[0m",
      "\u001b[1;31mAttributeError\u001b[0m                            Traceback (most recent call last)",
      "Cell \u001b[1;32mIn[16], line 4\u001b[0m\n\u001b[0;32m      2\u001b[0m \u001b[38;5;28;01mif\u001b[39;00m res:\n\u001b[0;32m      3\u001b[0m     soup \u001b[38;5;241m=\u001b[39m BeautifulSoup(res\u001b[38;5;241m.\u001b[39mtext, \u001b[38;5;124m\"\u001b[39m\u001b[38;5;124mhtml.parser\u001b[39m\u001b[38;5;124m\"\u001b[39m)\n\u001b[1;32m----> 4\u001b[0m     data \u001b[38;5;241m=\u001b[39m get_data(soup)\n\u001b[0;32m      5\u001b[0m     \u001b[38;5;28mprint\u001b[39m(soup)\n",
      "Cell \u001b[1;32mIn[3], line 29\u001b[0m, in \u001b[0;36mget_data\u001b[1;34m(soup)\u001b[0m\n\u001b[0;32m     26\u001b[0m \u001b[38;5;28;01melse\u001b[39;00m:\n\u001b[0;32m     27\u001b[0m     site_url \u001b[38;5;241m=\u001b[39m \u001b[38;5;124m\"\u001b[39m\u001b[38;5;124m\"\u001b[39m\n\u001b[1;32m---> 29\u001b[0m paragraphs \u001b[38;5;241m=\u001b[39m soup\u001b[38;5;241m.\u001b[39mfind(\u001b[38;5;124m\"\u001b[39m\u001b[38;5;124mdiv\u001b[39m\u001b[38;5;124m\"\u001b[39m, class_\u001b[38;5;241m=\u001b[39m\u001b[38;5;124m\"\u001b[39m\u001b[38;5;124marticle-content\u001b[39m\u001b[38;5;124m\"\u001b[39m)\u001b[38;5;241m.\u001b[39mfind_all(\u001b[38;5;124m\"\u001b[39m\u001b[38;5;124mp\u001b[39m\u001b[38;5;124m\"\u001b[39m)\n\u001b[0;32m     30\u001b[0m \u001b[38;5;28;01mif\u001b[39;00m \u001b[38;5;129;01mnot\u001b[39;00m paragraphs:\n\u001b[0;32m     31\u001b[0m     content\u001b[38;5;241m=\u001b[39m\u001b[38;5;124m\"\u001b[39m\u001b[38;5;124m\"\u001b[39m\n",
      "\u001b[1;31mAttributeError\u001b[0m: 'NoneType' object has no attribute 'find_all'"
     ]
    }
   ],
   "source": [
    "res=safe_get(\"https://www.bangkokpost.com/video/thailand/2996869/deeper-dive-thailand-vaping-debate-takeaways\")\n",
    "if res:\n",
    "    soup = BeautifulSoup(res.text, \"html.parser\")\n",
    "    \n",
    "    data = get_data(soup)\n",
    "    print(soup)"
   ]
  },
  {
   "cell_type": "code",
   "execution_count": 18,
   "id": "7362de61",
   "metadata": {},
   "outputs": [
    {
     "name": "stdout",
     "output_type": "stream",
     "text": [
      "Fetching: https://www.bangkokpost.com/thailand/general/2996892/no-signs-of-life-more-bodies-expected-at-collapsed-tower-bangkok-governor\n",
      "Response: <Response [200]>\n",
      "Count =  0 {'title': 'No signs of life, more bodies expected at collapsed tower: Bangkok governor', 'description': 'Heavy machines are increasingly being used to excavate the rubble of the collapsed State Audit Office building and rescuers are likely to find more bodies as no further signs of life have been detected, Bangkok governor Chadchart Sittipunt said on Sunday.', 'content': 'Heavy machines are increasingly being used to excavate the rubble of the collapsed State Audit Office building and rescuers are likely to find more bodies as no further signs of life have been detected, Bangkok governor Chadchart Sittipunt said on Sunday. With chances of finding more survivors faded, heavy machines are operating at full speed to remove the top of the rubble pile and dig holes into its sides to reach areas where bodies are likely to be located, the governor said. The top layer of rubble would be removed gradually for the safety of rescuers at the site of the collapsed new State Audit Office building in Chatuchak district, Bangkok. When the top part is secured, heavy machines would dig into the sides of the rubble mountain to reach what used to be the stairways, passages and halls that construction workers used to enter the 30-storey building before it fell. During the Myanmar earthquake on March 28 which shook the State Audit tower, construction personnel were likely trying to escape the high-rise through the passages, Mr Chadchart said. Two bodies were found in passages on Saturday and body parts were spotted on Sunday morning, he said. Whenever excavators reached a hole under the rubble, they would pave the way for rescuers and sniffer dogs to find more victims, the Bangkok governor said. He admitted the chance of still finding survivors was negligible. “The situation improved as we began to remove unstable areas and gained better access. We expect to find more missing persons. However, realistically, the chances of survival are diminishing, and the number of fatalities is likely to increase,” the Bangkok governor said. As of 8am on Sunday, 17 people were confirmed dead, 77 others were missing and nine had been rescued at the collapse site. Suriyachai Rawiwan, disaster mitigation director of City Hall, said drones were used to look for victims while excavators were operated. Deputy Bangkok governor Tavida Kamolvej said that the removal of the rubble at the new State Audit Office would take about a month.', 'image': 'https://static.bangkokpost.com/media/content/20250406/c1_2996892_700.jpg', 'site_url': 'https://www.bangkokpost.com/thailand/general/2996892/no-signs-of-life-more-bodies-expected-at-collapsed-tower-bangkok-governor', 'publish_date': '6 Apr 2025', 'publish_time': '17:14'}\n",
      "Fetching: https://www.bangkokpost.com/world/2996902/frances-far-right-leftwingers-rally-supporters-after-le-pen-conviction\n",
      "Response: <Response [200]>\n",
      "Count =  1 {'title': \"France's far-right, leftwingers rally supporters after Le Pen conviction\", 'description': \"PARIS - France's far right planned to rally supporters on Sunday after their leader Marine Le Pen was convicted of embezzlement and banned from public office, a move that set the country's political scene alight ahead of 2027 presidential elections.\", 'content': 'PARIS - France\\'s far right planned to rally supporters on Sunday after their leader Marine Le Pen was convicted of embezzlement and banned from public office, a move that set the country\\'s political scene alight ahead of 2027 presidential elections. The bombshell judgement stunned France\\'s political establishment, and some leftwing forces and the centrist camp also planned to stage counter-rallies on Sunday. \"People of France, let us mobilise to defend freedom, save democracy and support Marine!\" Le Pen\\'s National Rally (RN) party said on X ahead of the protest in Paris. The far right is on the rise in France. Polls indicate Le Pen, 56, would easily top the first round of the two-round presidential vote if she ran. She describes herself as the \"favourite\" to succeed President Emmanuel Macron. On Monday, Le Pen, 56, was found guilty of embezzling European Parliament funds and given a partly suspended jail term and an immediate ban on holding public office. Her supporters branded the ruling politically motivated, but Macron insisted the French judiciary is \"independent\". US President Donald Trump called the sentence a \"witch hunt\" by \"European leftists using lawfare to silence free speech, and censor their political opponent\". Prime Minister Francois Bayrou rejected that remark as \"interference\" in French affairs, in a newspaper interview released Saturday. He added that it was \"neither healthy nor desirable\" to stage a demonstration against the court ruling, insisting French institutions allowed for \"the separation of powers and the defence of justice\". \"The Republic is under threat,\" Greens leader Marine Tondelier said on X, urging supporters to rally in central Paris on Sunday. Macron\\'s Renaissance party, led by former prime minister Gabriel Attal, 36, gathered in the northern working-class Paris suburb of Seine-Denis. Bayrou has been invited to attend the meeting, which has been in preparation for weeks. \"One of the questions that will arise on Sunday is whether or not we want France to become Trump\\'s America\", said one of Attal\\'s associates. Jordan Bardella, the 29-year-old head of the National Rally, said the ruling would only boost support for the party. He has called the far-right rally in Place Vauban in Paris\\'s affluent 7th district \"a mobilisation not against, but in support of French democracy.\" According to police sources, 8,000 people are expected to attend. Le Pen has worked to turn the party into an electable mainstream force and rid it of the legacy of her father, its co-founder Jean-Marie Le Pen, who died in January and was frequently accused of racism. The latest survey by pollster Elabe for broadcaster BFMTV, released Saturday, showed her with up to 36 percent of the vote. Even some of her fiercest opponents say the far-right leader should be allowed to stand in the 2027 vote. She has lodged an appeal. But now Le Pen risks seeing years of progress undone, political observers say. After the ruling, she accused authorities of using a \"nuclear bomb\" against her. She compared herself to Alexei Navalny, the jailed Russian opposition leader who died in an Arctic prison in 2024 after being jailed under President Vladimir Putin. \"Indecent to the end,\" said left-leaning daily Liberation in its verdict on that claim. \"She is forced to adopt an anti-establishment point of view and position,\" said Jean-Yves Dormagen, president of Cluster17, an opinion analysis institute. \"Victimisation works with her voters.\" The National Rally is the largest single party in parliament and can complicate life for Bayrou, who does not have a majority in the lower house. His predecessor Michel Barnier was ejected from office last December in a move backed by Le Pen. The Paris Court of Appeal said it would examine Le Pen\\'s case within a timeframe that could potentially allow her to contest the polls if her conviction is overturned or her sentence changed.', 'image': 'https://static.bangkokpost.com/media/content/20250406/c1_5544657_700.jpg', 'site_url': 'https://www.bangkokpost.com/world/2996902/frances-far-right-leftwingers-rally-supporters-after-le-pen-conviction', 'publish_date': '6 Apr 2025', 'publish_time': '17:45'}\n",
      "Fetching: https://www.bangkokpost.com/business/general/2996926/indonesia-will-not-retaliate-against-trump-tariff-official-says\n",
      "Response: <Response [200]>\n",
      "Count =  2 {'title': 'Indonesia\\xa0will not retaliate against Trump tariff, official says', 'description': \"JAKARTA - Indonesia will not retaliate against US President Donald Trump's 32% trade tariff on Southeast Asia's largest economy, its senior economic minister said on Sunday in the government's first response to the levy.\", 'content': 'JAKARTA - Indonesia will not retaliate against US President Donald Trump\\'s 32% trade tariff on Southeast Asia\\'s largest economy, its senior economic minister said on Sunday in the government\\'s first response to the levy. Chief Economic Minister Airlangga Hartarto said in a statement that Indonesia would pursue diplomacy and negotiations to find mutually beneficial solutions after Trump announced sweeping global tariffs on Wednesday. \"The approach was taken by considering the long-term interest of bilateral trade relation, as well as to maintain the investment climate and national economic stability,\" Airlangga said, adding that Jakarta will support potentially impacted sectors, such as apparel and footwear industry. Trump\\'s tariff on\\xa0Indonesia, one of six hard-hit Southeast Asian countries, is set to take effect on Wednesday. The Indonesian government will gather inputs from businesses on Monday to help formulate strategy to address the US tariff, and will find ways to increase trade with European countries as an alternative to the US and China, Airlangga said. Jakarta has said it would send a high-level delegation to the US for direct negotiations with the government. Indonesia\\xa0posted a $16.8 billion trade surplus last year with the US which was its third-biggest export destination, receiving shipments worth $26.3 billion in 2024, according to Indonesian government data. Indonesia’s main exports to the US include electronics, apparel and clothing, and footwear.', 'image': 'https://static.bangkokpost.com/media/content/20250406/c1_2996926_700.jpg', 'site_url': 'https://www.bangkokpost.com/business/general/2996926/indonesia-will-not-retaliate-against-trump-tariff-official-says', 'publish_date': '6 Apr 2025', 'publish_time': '18:46'}\n",
      "Fetching: https://www.bangkokpost.com/business/general/2996861/us-vietnamese-businesses-ask-trump-to-delay-46-tariffs-on-vietnam\n",
      "Response: <Response [200]>\n",
      "Count =  3 {'title': 'US, Vietnamese businesses ask Trump to delay 46% tariffs on\\xa0Vietnam', 'description': 'HANOI - US and Vietnamese businesses have asked the Trump administration to delay its planned 46% tariff on Vietnamese goods, saying the levy will hurt them and bilateral commercial relations.', 'content': 'HANOI - US and Vietnamese businesses have asked the Trump administration to delay its planned 46% tariff on Vietnamese goods, saying the levy will hurt them and bilateral commercial relations. The Vietnam Chamber of Commerce and Industry and the American Chamber of Commerce in Hanoi expressed concern to Commerce Secretary Howard Lutnick in a letter dated Saturday, saying the tariff, to take effect on Wednesday, was \"shockingly high\". \"Lower tariffs for products coming into\\xa0Vietnam, and for products reaching the American consumer is what will help US companies, the economy, and consumers,\" AmCham and VCCI said in a statement. \"Higher tariffs will not.\" The Southeast Asian country, a major regional manufacturing base for many Western companies, posted a trade surplus of over $123 billion with the US its largest export destination, last year. President Donald Trump and Vietnamese leader To Lam agreed on Friday to discuss a deal to remove tariffs, both said after a phone call that Trump called \"very productive\". Even before Trump\\'s Wednesday announcement of sweeping global tariffs,\\xa0Vietnam\\xa0cut several duties as part of a series of concessions to the US, which also included pledges to buy more American goods, such as planes and agriculture products. AmCham and VCCI said: \"A fast and fair agreement would add certainty for businesses and would help to rectify the trade imbalance between the two countries in a manner that benefits both countries.\"', 'image': 'https://static.bangkokpost.com/media/content/20250406/c1_2996861_700.jpg', 'site_url': 'https://www.bangkokpost.com/business/general/2996861/us-vietnamese-businesses-ask-trump-to-delay-46-tariffs-on-vietnam', 'publish_date': '6 Apr 2025', 'publish_time': '14:49'}\n",
      "Fetching: https://www.bangkokpost.com/thailand/general/2996942/friendship-wont-taint-probe-into-bangkok-tower-collapse-anutin\n",
      "Response: <Response [200]>\n",
      "Count =  4 {'title': \"'Friendship won't taint probe' into Bangkok tower collapse: Anutin\", 'description': 'Deputy Prime Minister and Interior Minister Anutin Charnvirakul has promised a transparent investigation into the collapse of the State Audit Office (SAO), despite his close ties with Auditor-General Montien Charoenphol.', 'content': 'Deputy Prime Minister and Interior Minister Anutin Charnvirakul has promised a transparent investigation into the collapse of the State Audit Office (SAO), despite his close ties with Auditor-General Montien Charoenphol. Mr Anutin on Sunday spoke to the media to address recent allegations posted by the Facebook page “CSI LA,” which questioned his close relationship with Mr Montien. The page said their friendship might affect the investigation into the disaster. Mr Anutin admitted he and Mr Montien have been close friends for over a decade, having studied together during a national defence course where Mr Anutin was class president and Mr Monthien served as his secretary. However, this didn’t mean the probe into the SAO collapse would necessarily be tainted or inadequate. He denied the accusations made by the Facebook page. The minister said Mr Montien did not sign the contract for the building as he only assumed his position at the end of last year when the building was already near completion. He also criticised the CSI LA page for making false allegations, saying the pictures of him and Mr Montien shared by the page were taken a long time ago. Mr Anutin said the investigation is being carried out independently by a committee consisting of the Council of Engineers, the Engineering Institute of Thailand and several universities. “Manipulation or distortion was impossible. Even if it had been possible, it wouldn’t have caused the building to collapse,” he said. He had chatted to Mr Montien on Saturday, saying both agreed the accusations were untrue. “There’s no way we could bail anyone out of taking responsibility,” Mr Anutin added. “I’m the one urging all parties to find the cause because out of hundreds of thousands of buildings in Bangkok, this was the only building that collapsed, meaning it must have had a serious flaw,” he added. Meanwhile, Deputy Commerce Minister Napintorn Srisanpang said legal action will be taken against Thai shareholders of China Railway No.10 (Thailand), one of the contractors for the SAO building, if they are found to have acted as proxies for others to invest through. The Department of Special Investigation (DSI) will lead the probe and all findings concerning other companies connected to China Railway No.10 will be passed to the department for further investigation, he added. Auditor-General Montien Charoenphol (photo: State Audit Office)', 'image': 'https://static.bangkokpost.com/media/content/20250406/c1_2996942_700.jpg', 'site_url': 'https://www.bangkokpost.com/thailand/general/2996942/friendship-wont-taint-probe-into-bangkok-tower-collapse-anutin', 'publish_date': '6 Apr 2025', 'publish_time': '20:04'}\n",
      "Fetching: https://www.bangkokpost.com/world/2996917/recovering-pope-surprises-crowd-at-vatican-square\n",
      "Response: <Response [200]>\n",
      "Count =  5 {'title': 'Recovering Pope surprises crowd at Vatican square', 'description': 'VATICAN CITY - Pope Francis made a surprise Sunday public appearance as he mingled with crowds at the Vatican just two weeks after leaving hospital for a serious case of pneumonia.', 'content': 'VATICAN CITY - Pope Francis made a surprise Sunday public appearance as he mingled with crowds at the Vatican just two weeks after leaving hospital for a serious case of pneumonia. \"A good Sunday to all. Thank you very much\", the 88-year old pope said as he was wheeled through Saint Peter\\'s Square in his wheelchair after a mass dedicated to the sick. Surrounded by a mass of smartphones and cameras, and attached to nasal breathing tubes, his voice was fragile but more audible than when he left the Gemelli hospital on March 23. The Argentine\\'s last public appearance was on February 14. Francis is, in theory, undergoing two months of convalescence following his life-threatening health scare, with strict rest, no public activity and no contact with crowds. Yet the Jesuit spent Sunday morning blessing the masses gathered on the sunny square, in an encouraging signal for his health two weeks before Christians the world over celebrate Easter. \"He\\'s doing better, that\\'s clear, and he wants that to be seen,\" a Vatican source told AFP on condition of anonymity. \"He\\'s not yet well enough to deliver a message, but well enough to make a gesture... and show up,\" the source added. A few minutes before his surprise appearance the leader of the globe\\'s 1.4 billion Catholics received the sacrament in St Peter\\'s Cathedral, the Vatican said in a statement on Telegram. As in previous weeks Francis did not read out the customary Angelus prayer, which was published in written form instead. \"I pray for the doctors, the nurses and the healthcare workers, who are not always helped to work in adequate conditions and who are even, sometimes, victims of attacks,\" the pontiff wrote. \"Their mission is not easy and must be supported and respected.\" His message went on to offer a prayer for an end to the world\\'s conflicts, mentioning in turn Ukraine, Sudan, neighbouring South Sudan, the Democratic Republic of Congo, Myanmar and Haiti. Francis likewise prayed for the Middle East and especially Gaza, where Israel last week again launched a ground offensive against Palestinian militant group Hamas. In the Palestinian territory \"people are forced to live in unimaginable conditions, without shelter, without food, without drinkable water,\" the pope said. \"Let the weapons fall silent and dialogue begin again\", he added, calling for the freeing of the hostages held by Hamas since its October 7, 2023 attack that began the war. While being assisted his recovery by healthcare workers night and day at his Vatican residence, Francis has not seen any visitors since his release from the Gemelli Hospital. Yet he has taken up his papal duties again, notably in editing and putting his signature to documents, according to the Holy See.', 'image': 'https://static.bangkokpost.com/media/content/20250406/c1_5544687_700.jpg', 'site_url': 'https://www.bangkokpost.com/world/2996917/recovering-pope-surprises-crowd-at-vatican-square', 'publish_date': '6 Apr 2025', 'publish_time': '18:45'}\n",
      "Fetching: https://www.bangkokpost.com/business/general/2996912/uk-readies-to-protect-industry-as-us-tariffs-upend-global-order-starmer\n",
      "Response: <Response [200]>\n",
      "Count =  6 {'title': 'UK readies to protect industry as US tariffs upend global order: Starmer', 'description': 'LONDON - The \"world as we knew it\" is over, UK Prime Minister Keir Starmer said Sunday, as the world braced for further fallout from the introduction of US tariffs.', 'content': 'LONDON - The \"world as we knew it\" is over, UK Prime Minister Keir Starmer said Sunday, as the world braced for further fallout from the introduction of US tariffs. US President Donald Trump\\'s announcement of sweeping tariffs on Wednesday shows that \"old assumptions can no longer be taken for granted,\" Starmer said in an op-ed for the Sunday Telegraph newspaper. \"The world as we knew it has gone,\" he wrote. The new world will be governed less by established rules and \"more by deals and alliances\", added the prime minister. The tariffs have already sent markets into a tailspin, and all eyes will be on Monday\\'s opening with Trump warning Americans of pain ahead. \"This is an economic revolution, and we will win,\" the Republican president wrote on Truth Social on Saturday. \"Hang tough, it won\\'t be easy, but the end result will be historic.\" Trump\\'s 34% tariff on Chinese goods is set to kick in next week, triggering Beijing\\'s announcement of a 34% levy on US products from April 10. The EU and Japan are also among around 60 trading partners set to face even higher rates on April 9, raising fears of recessions in some of the world\\'s leading economies. Wednesday\\'s announcement has sent countries scrambling for a response, and Zimbabwe President Emmerson Mnangagwa said Saturday that he would suspend all tariffs on goods imported from the US after being hit with an 18% levy. The UK has so far got off relatively lightly with a 10% tariff, and Starmer wrote on Sunday that the country\\'s response \"demands the best of British virtues -– cool heads, pragmatism and a clear understanding of our national interest.\" The UK leader reiterated his government\\'s belief that \"nobody wins from a trade war\" and that the immediate strategy was \"to keep calm and fight for the best deal.\" However, he insisted a US trade deal will only be struck \"if it is right for British business\" and that \"all options remain on the table\" in responding to the tariffs. The new levies mark \"the most sweeping tariff hike since the Smoot-Hawley Tariff Act, the 1930 law best remembered for triggering a global trade war and deepening the Great Depression,\" said the Center for Strategic and International Studies. In an immediate sign of the fallout, UK luxury car manufacturer Jaguar Land Rover said on Saturday that it will \"pause\" shipments to the United States in April as it addressed \"the new trading terms\". Recognising the shifting global economic sands, Starmer said that he was now prepared to use direct state intervention to protect certain sectors. \"This week we will turbocharge plans that will improve our domestic competitiveness,\" he wrote, ahead of an expected major announcement on industrial strategy. \"We stand ready to use industrial policy to help shelter British business from the storm. \"Some people may feel uncomfortable about this... but we simply cannot cling on to old sentiments when the world is turning this fast,\" he added.', 'image': 'https://static.bangkokpost.com/media/content/20250406/c1_5544677_700.jpg', 'site_url': 'https://www.bangkokpost.com/business/general/2996912/uk-readies-to-protect-industry-as-us-tariffs-upend-global-order-starmer', 'publish_date': '6 Apr 2025', 'publish_time': '18:45'}\n",
      "Fetching: https://www.bangkokpost.com/video/thailand/2996869/deeper-dive-thailand-vaping-debate-takeaways\n",
      "Response: <Response [200]>\n",
      "Fetching: https://www.bangkokpost.com/thailand/politics/2996936/bhumjaithai-party-debuts-new-all-blue-logo\n",
      "Response: <Response [200]>\n",
      "Count =  7 {'title': 'Bhumjaithai Party debuts new all-blue logo', 'description': 'The Bhumjaithai Party marked its 16th anniversary on Sunday by unveiling a new, all-blue logo, which its leader Anutin Charnvirakul said represented unity, loyalty and the party&rsquo;s commitment to political stability.', 'content': 'The Bhumjaithai Party marked its 16th anniversary on Sunday by unveiling a new, all-blue logo, which its leader Anutin Charnvirakul said represented unity, loyalty and the party’s commitment to political stability. The party celebrated the milestone at its headquarters on Sunday with a merit-making ceremony led by Mr Anutin and party secretary-general Chaichanok Chidchob. The ceremony featured both Buddhist and Islamic rituals, which were meant to highlight the diversity within the party. Representatives from other parties, including Pheu Thai, Chartthaipattana, United Thai Nation and Democrat parties, also attended the event. After the ceremonies concluded, the party kicked off its annual general assembly, during which party members discussed revisions to internal regulations and formalised the adoption of the new all-blue logo. Even before the all-blue logo was adopted, Bhumjaithai Party was often referred to as the “Blue Party” by the public and in media reports. Mr Anutin said the colour symbolises the party’s commitment to Thai identity, patriotism, religious values and loyalty to the monarchy under a democratic system with the King as the head of state. In his speech about the new logo, Mr Anutin also highlighted the party’s resilience over the past 16 years, whether as a governing party or an opposition party. He emphasised the party’s commitment to serving the people, whether its members hold an official position or not. Mr Anutin said blue represents many things, including peace, unity, strength, stability, boldness, wisdom and loyalty, which are qualities that define Bhumjaithai’s ideology. In the speech, Mr Anutin called on all Bhumjaithai Party members to embrace the new logo and reaffirm the party’s commitment to democracy, national unity and readiness to face global challenges together with the people of Thailand.', 'image': 'https://static.bangkokpost.com/media/content/20250406/c1_2996936_700.jpg', 'site_url': 'https://www.bangkokpost.com/thailand/politics/2996936/bhumjaithai-party-debuts-new-all-blue-logo', 'publish_date': '6 Apr 2025', 'publish_time': '19:47'}\n"
     ]
    }
   ],
   "source": [
    "news=[]\n",
    "sleep_for=5\n",
    "count=0\n",
    "for link in links:\n",
    "    time.sleep(sleep_for)  # import time\n",
    "    target=\"https://www.bangkokpost.com\" + link\n",
    "    print(\"Fetching: \"+target)\n",
    "    response= safe_get(target)\n",
    "    print(\"Response: \"+str(response))\n",
    "    if response:\n",
    "        soup = BeautifulSoup(response.text, \"html.parser\")\n",
    "        if(soup.find(\"div\", class_=\"article-content\") is None):\n",
    "            continue\n",
    "        data = get_data(soup)\n",
    "        print(\"Count = \",count,data)\n",
    "        news.append(data)\n",
    "        count+=1\n"
   ]
  },
  {
   "cell_type": "code",
   "execution_count": null,
   "id": "a9e2628b",
   "metadata": {},
   "outputs": [
    {
     "data": {
      "text/plain": [
       "[{'title': 'CP chief Dhanin tops Thailand wealth list with $15bn',\n",
       "  'description': 'Dhanin Chearavanont , senior chairman of the Charoen Pokphand (CP) Group, leads the list of Thailand&rsquo;s richest people on on the Forbes magazine World&rsquo;s Billionaires 2025 list, with a net worth of US$15.2 billion.',\n",
       "  'content': 'Dhanin Chearavanont, senior chairman of the Charoen Pokphand (CP) Group, leads the list of Thailand’s richest people on on the Forbes magazine World’s Billionaires 2025 list, with a net worth of US$15.2 billion. He is ranked 141st among 3,028 billionaires on the list. The United States has a record 902 billionaires, followed by China (516, including Hong Kong) and India (205). Thailand has 25 billionaires on the list. Globally, Forbes said, 15 people have a net worth of at least $100 billion each. In Thailand, Mr Dhanin, 85, is followed by Sarath Ratanavadi, CEO of Gulf Development Plc, who has a net worth of $12.9 billion and is 184th on the global list. Charoen Sirivadhanabhakdi, chairman of Thai Beverage Plc, is ranked third with $11.7 billion and is 210th on the global list. Former prime minister Thaksin Shinawatra is 15th among Thailand’s richest and 1,688th on the world list with a net worth of $2.1 billion. Globally, Elon Musk, the co-founder of Tesla and now Donald Trump’s cost-cutter-in-chief, tops the table with a net worth of $342 billion, followed by Mark Zuckerberg of Facebook with $216 billion and Jeff Bezos of Amazon with $215 billion.',\n",
       "  'image': 'https://static.bangkokpost.com/media/content/20250405/c1_2996442_250405215817_700.jpg',\n",
       "  'site_url': 'https://www.bangkokpost.com/business/general/2996442/cp-chief-dhanin-tops-thailand-wealth-list-with-15bn',\n",
       "  'publish_date': '5 Apr 2025',\n",
       "  'publish_time': '21:57'},\n",
       " {'title': 'Another body spotted at building collapse site',\n",
       "  'description': 'Another body has been spotted beneath the rubble of the collapsed State Audit Office in Bangkok, but it cannot be retrieved until more debris is cleared, officials said on Saturday.',\n",
       "  'content': 'Another body has been spotted beneath the rubble of the collapsed State Audit Office in Bangkok, but it cannot be retrieved until more debris is cleared, officials said on Saturday. Rescuers have been working tirelessly to excavate Zone C of the site in Chatuchak district, as it is believed to be the place where many people ran from as the building collapsed during the earthquake on March 28. Aekvarunyoo Amrapala, a spokesman of the Bangkok Metropolitan Administration (BMA), said a backhoe was being used to dig a hole in Zone C, which was linked to the building’s car park floors. It is possible that the bodies of some of the workers who were fleeing during the collapse would be found there, he said. A total of 79 people are still unaccounted for at the site where the 30-storey building collapsed. A small backhoe has been deployed to Zone B but a larger one is needed to reduce the debris pile and lessen the risks for rescuers who will attempt to retrieve bodies of missing people there, said the spokesman. At about 2.30am, Mr Aekvarunyoo received a report that a body had been spotted trapped under the rubble in Zone B, but rescuers were unable to go inside yet. The BMA’s Erawan Medical Emergency Centre reported on Saturday evening that the confirmed death toll at the site stood at 15 and the number of injured was 19. Of the injured, 11 have been discharged from hospitals, leaving 8 being treated.',\n",
       "  'image': 'https://static.bangkokpost.com/media/content/20250405/c1_2996412_700.jpg',\n",
       "  'site_url': 'https://www.bangkokpost.com/thailand/general/2996412/another-body-spotted-at-building-collapse-site',\n",
       "  'publish_date': '5 Apr 2025',\n",
       "  'publish_time': '20:35'},\n",
       " {'title': 'India and UAE to develop Sri Lanka energy hub',\n",
       "  'description': 'COLOMBO - India and the United Arab Emirates have agreed to develop an energy hub in Sri Lanka, the Indian foreign ministry said on Saturday, as New Delhi&rsquo;s competition with China grows in the Indian Ocean island nation.',\n",
       "  'content': 'COLOMBO - India and the United Arab Emirates have agreed to develop an energy hub in Sri Lanka, the Indian foreign ministry said on Saturday, as New Delhi’s competition with China grows in the Indian Ocean island nation. The three nations signed the pact for the hub during Indian Prime Minister Narendra Modi’s visit to Sri Lanka, the first by a global leader since Sri Lankan President Anura Kumara Dissanayake took office in September. New Delhi and Colombo have worked to deepen ties as India’s southern neighbour recovers from a severe financial crisis triggered in 2022, during which India provided $4 billion in financial assistance. Saturday’s agreement boosts New Delhi’s competition with China, whose state energy firm Sinopec has signed a deal to build a $3.2-billion oil refinery in the southern port city of Hambantota. The energy hub in the strategically important city of Trincomalee, a natural harbour in the Sri Lanka’s east, will involve construction of a multi-product pipeline and may include using a World War II tank farm partly held by the Sri Lankan subsidiary of Indian Oil Corp, Indian Foreign Secretary Vikram Misri told reporters in Colombo. “The UAE is a strategic partner for India in the energy space and therefore was an ideal partner for this exercise that is being done for the first time in the region,” Misri said. “The exact contours of the UAE’s role will be elaborated once the business-to-business discussions kick off.” The three nations will next choose business entities that will consider the financing and feasibility of projects for the hub, he said. Modi also inaugurated a $100-million solar power project, a joint venture between Ceylon Electricity Board and India’s National Thermal Power Corp. India and Sri Lanka also concluded their debt restructuring process, Misri said. Sri Lanka owes about $1.36 billion in loans to the Exim Bank of India and State Bank of India, according to Sri Lankan Finance Ministry data. Colombo began restructuring talks after it defaulted on its debt in May 2022, signing a preliminary deal with bilateral creditors Japan, India and China last June. India and Sri Lanka also signed pacts on power grid connectivity, digitisation, security and healthcare.',\n",
       "  'image': 'https://static.bangkokpost.com/media/content/20250405/c1_2996402_250405190756_700.jpg',\n",
       "  'site_url': 'https://www.bangkokpost.com/world/2996402/india-and-uae-to-develop-sri-lanka-energy-hub',\n",
       "  'publish_date': '5 Apr 2025',\n",
       "  'publish_time': '19:03'},\n",
       " {'title': 'UK couple happy to be home after Thailand ordeal',\n",
       "  'description': 'A British couple whose Thailand retirement dream turned into a nightmare are back home and say they &ldquo;couldn&rsquo;t be happier&rdquo; as they prepare to rebuild their lives.',\n",
       "  'content': 'A British couple whose Thailand retirement dream turned into a nightmare are back home and say they “couldn’t be happier” as they prepare to rebuild their lives. “I wish we’d never gone to Thailand but we can’t turn the clock back and Des and I are going to have a wonderful retirement together,” Mary Byrne, 69, told the BBC. She and her husband Des, 77, were badly beaten by two neighbours after a property dispute in Hua Hin, where they had purchased a villa. They said they acted in self-defence but feared they would be jailed when Thai authorities said they and their assailants would all face charges. \\xa0 The incident took place in December 2023 but the charges were not laid until June last year. The couple’s passports were seized and they endured a months-long wait to learn of their fate. Last month the couple finally appeared in court, where they were fined and had their passports returned to them. They have now abandoned their plans to retire in Thailand and are instead looking at houses in Middlesbrough. “Being back in Middlesbrough and seeing the fabulous countryside, it’s absolutely wonderful,” Mrs Byrne told the BBC. “We couldn’t be happier.” Since getting back to England the couple have stayed with a family in Berkshire but plan to settle back on their native Teesside once they find a home. Mrs Byrne said: “We are recovering and coming home has made it so much easier. We’re elated, the emotions are so high at being back at home.”',\n",
       "  'image': 'https://static.bangkokpost.com/media/content/20250405/c1_2996427_700.jpg',\n",
       "  'site_url': 'https://www.bangkokpost.com/thailand/general/2996427/uk-couple-happy-to-be-home-after-thailand-ordeal',\n",
       "  'publish_date': '5 Apr 2025',\n",
       "  'publish_time': '20:20'},\n",
       " {'title': 'USAID team fired during Myanmar quake mission',\n",
       "  'description': 'Three US aid workers were laid off while in Myanmar helping the rescue and recovery from the country&rsquo;s massive earthquake, a former senior staffer said, as the Trump administration&rsquo;s dismantling of foreign aid affects its disaster response.',\n",
       "  'content': 'Three US aid workers were laid off while in Myanmar helping the rescue and recovery from the country’s massive earthquake, a former senior staffer said, as the Trump administration’s dismantling of foreign aid affects its disaster response. After travelling to the Southeast Asian country, the three staff were told late this week that they would be let go, Marcia Wong, a former official at the US Agency for International Development (USAID), told Reuters. “This team is working incredibly hard, focussed on getting humanitarian aid to those in need. To get news of your imminent termination — how can that not be demoralising?” said Wong, former deputy administrator of the agency’s Bureau for Humanitarian Assistance, which oversees Washington’s disease response efforts overseas. President Donald Trump’s government has pledged at least $9 million to Myanmar after the magnitude-7.7 quake, which has killed more than 3,300 people. But his administration’s massive cuts to USAID have hindered its ability to respond, while China, Russia, India and other nations have rushed in assistance. The Trump administration has moved to fire nearly all USAID staff in recent weeks, as billionaire Elon Musk’s Department of Government Efficiency has slashed funding and dismissed contractors across the federal bureaucracy in what it calls an attack on wasteful spending. The three USAID workers have been sleeping on the streets in the earthquake zone, Wong said, adding that their terminations would take effect in a few months. Many residents have been sleeping outside for fear of aftershocks and further building collapses. Wong said she is in contact with remaining USAID staff and that she heard about the terminations after an all-staff meeting on Friday. Former staff say most of the people who would have coordinated the response have been let go, while third-party implementing partners have lost contracts. \\xa0 The US State Department did not immediately respond to a request for comment. Secretary of State Marco Rubio on Friday rejected criticism that Washington was slow to respond to the March 28 earthquake because USAID was dismantled. Rather, he told reporters in Brussels, Myanmar was not “the easiest place to work”, saying the military government does not like the United States and prevents it from operating in the country as it wants to. The United Nations has said the junta was limiting humanitarian aid. Rubio said the US would no longer be the world’s top humanitarian donor, accounting for what he estimated was 70% of all global relief funding. He has called on other wealthy nations to step up in assisting Myanmar.',\n",
       "  'image': 'https://static.bangkokpost.com/media/content/20250405/c1_2996386_250405180735_700.jpg',\n",
       "  'site_url': 'https://www.bangkokpost.com/world/2996386/usaid-team-fired-during-myanmar-quake-mission',\n",
       "  'publish_date': '5 Apr 2025',\n",
       "  'publish_time': '18:02'},\n",
       " {'title': 'Manila sees Beijing’s arrests of ‘spies’ as retaliation',\n",
       "  'description': 'The Philippines said the detention of three Filipinos in China for alleged espionage may be in retaliation for Manila&rsquo;s recent arrests of Chinese nationals accused of spying.',\n",
       "  'content': 'The Philippines said the detention of three Filipinos in China for alleged espionage may be in retaliation for Manila’s recent arrests of Chinese nationals accused of spying. The Filipinos were former scholars of the Hainan provincial government under an agreement with Palawan province in the Philippines, the National Security Council said in a statement on Saturday without identifying the individuals. They have no military training “with no criminal records and were vetted and screened by the Chinese government prior to their arrival there”, it said. “Given the limited information released by Chinese media, the arrests can be seen as a retaliation for the series of legitimate arrests of Chinese agents and accomplices by Philippine law enforcement and counter-intelligence agencies in recent months,” the statement read. Beijing said on Thursday that it had detained three Filipinos who it claimed were operatives for Manila and carried out secret intelligence tasks in China. It said the espionage case against David Servañez, Albert Endencia and Nathalie Plizardo is under investigation. The latest flare-up could heighten tensions between the two countries that are already engaged in a territorial dispute in the South China Sea, as Manila pushes back against Beijing’s expansive claims in the resource-rich waterway. Philippine authorities arrested several Chinese nationals earlier this year for alleged espionage, including six last month who were suspected of carrying out intelligence and surveillance operations of critical infrastructure in the country. President Ferdinand Marcos Jr earlier said he was “very disturbed” over the increasing number of alleged Chinese spies arrested in the Philippines, which has prompted security officials to tighten monitoring. The Philippines’ security council said that a video released by China’s state broadcaster in which the three Filipinos expressed regret “appear to be scripted, strongly suggesting that (the confessions) were not made freely”. The security council said it was working with the Department of Foreign Affairs and the Philippine embassy in Beijing to ensure that the Filipinos receive appropriate legal support and are accorded due process. “We urge the Chinese government to respect their rights and afford them every opportunity to clear their names in the same way that the rights of Chinese nationals are respected here in the Philippines,” it added.',\n",
       "  'image': 'https://static.bangkokpost.com/media/content/20250405/c1_2996376_250405162825_700.jpg',\n",
       "  'site_url': 'https://www.bangkokpost.com/world/2996376/manila-sees-beijings-arrests-of-spies-as-retaliation',\n",
       "  'publish_date': '5 Apr 2025',\n",
       "  'publish_time': '16:27'},\n",
       " {'title': 'Din Daeng toll plaza closing at night from Saturday to Monday',\n",
       "  'description': 'The inbound and outbound lanes of the Din Daeng toll plaza on the Chalerm Maha Nakhon Expressway in Bangkok will be closed at night from Saturday until Monday to accommodate the removal of a construction crane tower that was damaged in the March 28 earthquake .',\n",
       "  'content': 'The inbound and outbound lanes of the Din Daeng toll plaza on the Chalerm Maha Nakhon Expressway in Bangkok will be closed at night from Saturday until Monday to accommodate the removal of a construction crane tower that was damaged in the March 28 earthquake. The Expressway Authority of Thailand (Exat) said the closure would take place from 10pm to 6am on April 5-7. The crane tower in question was being used at the Aspire Vibha-Victory condominium project site and its collapse also affected the expressway, Exat said on its Facebook page. Exat apologised for any inconvenience and advised motorists to use the following alternative routes. Outbound: Vehicles travelling on the Chalerm Maha Nakhon Expressway from Rama V Road (Bon Kai) should use the Si Rat Expressway heading towards Phahon Yothin Road (Victory Monument) exit or the Rama IX (Ratchada) exit to enter Din Daeng and Vibhavadi roads. Vehicles travelling on the Si Rat Expressway should use the Ploenchit exit (north side) to reach Asok Road and head towards Din Daeng and Vibhavadi roads. Inbound: Vehicles heading to Bang Na should use the Si Rat Expressway at the Bang Sue toll plaza in front of Mor Chit Bus Terminal 2 or Klong Prapa 2 toll plaza in front of the Ministry of Finance. The damaged crane tower is seen at the Aspire Vibha-Victory condominium construction site in Din Daeng district of Bangkok on March 29. (Photo: Din Daeng District Office Facebook page)',\n",
       "  'image': 'https://static.bangkokpost.com/media/content/20250405/c1_2996356_700.jpg',\n",
       "  'site_url': 'https://www.bangkokpost.com/thailand/general/2996356/din-daeng-toll-plaza-closing-at-night-from-saturday-to-monday',\n",
       "  'publish_date': '5 Apr 2025',\n",
       "  'publish_time': '15:42'},\n",
       " {'title': 'Chinese tourist found dead on Pattaya beach',\n",
       "  'description': 'A Chinese tourist holding a Thailand Privilege Card visa was found dead on a beach in Pattaya on Saturday morning, with some bruises on his forehead and neck.',\n",
       "  'content': 'A Chinese tourist holding a Thailand Privilege Card visa was found dead on a beach in Pattaya on Saturday morning, with some bruises on his forehead and neck. The body of the 40-year-old man, whose name was withheld pending notification of relatives, was found lying face-down on Yin Yom beach behind a hotel in South Pattaya, said Pol Lt Col Saijai Khamjulla, investigation inspector at the Pattaya City police station, who was alerted at 7.30am. Wearing a white T-shirt and jeans, the man had some bruises — one on his forehead and one on his neck. His right eye socket was fractured and there were traces of blood from his nostrils, according to an initial examination. A doctor believed he had died at least six to 12 hours before the body was discovered. A mobile phone and a slipper were found near his body. A passport and a bank passbook showing 60,000 baht cash were found on his body. According to police, a hotel staff member was cleaning the beach area behind the hotel and saw the man lying face-down in the sand. She immediately alerted police and said the man was not a guest of the hotel. An immigration record check showed the man entered Thailand on a tourist visa under the Thailand Privilege Card scheme for wealthy frequent visitors. He first entered the kingdom in 2023 and travelled in and out of the country frequently. His last reported address was in the seaside village of Jomtien, about 2-3 kilometres from where the body was found. Pol Col Anek Srathongyu, chief of the Pattaya City station, said the exact cause of death had not yet been established. The report of the doctor who examined the body said it was possible that the deceased had slipped and fallen, with his head striking a rock, causing him to lose consciousness. He might have later drowned in the sea, said the police chief. The body would be sent to Police General Hospital in Bangkok for a full autopsy to establish the cause of death, said Pol Col Anek.',\n",
       "  'image': 'https://static.bangkokpost.com/media/content/20250405/c1_2996392_700.jpg',\n",
       "  'site_url': 'https://www.bangkokpost.com/thailand/general/2996392/chinese-tourist-found-dead-on-pattaya-beach',\n",
       "  'publish_date': '5 Apr 2025',\n",
       "  'publish_time': '18:24'},\n",
       " {'title': 'Arsenal draw at Everton leaves Liverpool smiling',\n",
       "  'description': 'LIVERPOOL, England - Everton did neighbours Liverpool a massive favour by holding title-chasing Arsenal to a 1-1 Premier League draw at Goodison Park on Saturday.',\n",
       "  'content': 'LIVERPOOL, England - Everton did neighbours Liverpool a massive favour by holding title-chasing Arsenal to a 1-1 Premier League draw at Goodison Park on Saturday. Iliman Ndiaye’s penalty cancelled out a Leandro Trossard opener for the visitors, who now have 62 points from 31 matches, 11 behind leaders Liverpool, who have a game at hand when they go to Fulham on Sunday. Everton climb to 14th place with 35 points from their 31 matches, 15 points clear of the relegation zone. Arsenal took the lead in the 34th minute with the first shot on target in the game as a poor header in midfield allowed Raheem Sterling to race clear and feed Trossard, who took a touch and drilled his shot low into the far right corner. Everton were awarded a penalty two minutes into the second half when Myles Lewis-Skelly hauled down Jack Harrison in the box and Ndiaye netted his ninth goal of the season in all competitions to leave Arsenal’s flagging title hopes in tatters. Liverpool now need just 11 points from their remaining eight matches to secure a record-equalling 20th English top-flight title. Arsenal boss Mikel Arteta had said the best preparation for his side’s Champions League quarter-final, first leg against Real Madrid would be to win on Merseyside on Saturday. But the Spaniard showed he had one eye on the visit of the European champions with his team selection. Bukayo Saka was forced to wait for his first start since December as the England international was left on the bench alongside Martin Odegaard, Gabriel Martinelli, Jurrien Timber and Thomas Partey. Despite also missing Gabriel Magalhaes, Kai Havertz and Gabriel Jesus to long-term injuries, Arsenal were still the dominant force in the first 45 minutes. Arsenal’s title bid, though, has been undone throughout the season by not scoring enough goals, even when Havertz and Jesus were fit earlier in the campaign.',\n",
       "  'image': 'https://static.bangkokpost.com/media/content/20250405/c1_2996436_700.jpg',\n",
       "  'site_url': 'https://www.bangkokpost.com/sports/2996436/arsenal-draw-at-everton-leaves-liverpool-smiling',\n",
       "  'publish_date': '5 Apr 2025',\n",
       "  'publish_time': '21:20'}]"
      ]
     },
     "execution_count": 26,
     "metadata": {},
     "output_type": "execute_result"
    }
   ],
   "source": [
    "news"
   ]
  },
  {
   "cell_type": "code",
   "execution_count": null,
   "id": "9c0e923b",
   "metadata": {},
   "outputs": [
    {
     "name": "stdout",
     "output_type": "stream",
     "text": [
      "2025-04-05 20:20:00\n"
     ]
    }
   ],
   "source": [
    "from datetime import datetime\n",
    "\n",
    "publish_date = \"5 Apr 2025\"\n",
    "publish_time = \"20:20\"\n",
    "\n",
    "# Combine and parse into datetime\n",
    "dt = datetime.strptime(f\"{publish_date} {publish_time}\", \"%d %b %Y %H:%M\")\n",
    "\n",
    "print(dt)  # Output: 2025-04-05 20:20:00\n"
   ]
  },
  {
   "cell_type": "code",
   "execution_count": null,
   "id": "71a08090",
   "metadata": {},
   "outputs": [
    {
     "data": {
      "text/plain": [
       "datetime.datetime"
      ]
     },
     "execution_count": 28,
     "metadata": {},
     "output_type": "execute_result"
    }
   ],
   "source": [
    "type(dt)"
   ]
  },
  {
   "cell_type": "code",
   "execution_count": null,
   "id": "7c989aad",
   "metadata": {},
   "outputs": [
    {
     "name": "stdout",
     "output_type": "stream",
     "text": [
      "2025-04-05 20:20:00\n"
     ]
    }
   ],
   "source": [
    "dt=dt.strftime(\"%Y-%m-%d %H:%M:%S\")\n",
    "print(dt)  # Output: 2025-04-05 20:20:00"
   ]
  },
  {
   "cell_type": "code",
   "execution_count": null,
   "id": "b550948d",
   "metadata": {},
   "outputs": [
    {
     "data": {
      "text/plain": [
       "str"
      ]
     },
     "execution_count": 30,
     "metadata": {},
     "output_type": "execute_result"
    }
   ],
   "source": [
    "type(dt)  # Output: <class 'datetime.datetime'>"
   ]
  },
  {
   "cell_type": "code",
   "execution_count": null,
   "id": "1c489575",
   "metadata": {},
   "outputs": [],
   "source": [
    "import html\n",
    "from io import BytesIO\n",
    "def clean_text(text):\n",
    "    return html.unescape(BeautifulSoup(text, \"html.parser\").get_text()).replace('\\xa0', ' ').strip()\n",
    "\n",
    "for news in news:\n",
    "    news['title'] = clean_text(news['title'])\n",
    "    news['description'] = clean_text(news['description'])\n",
    "    news['content'] = clean_text(news['content'])"
   ]
  },
  {
   "cell_type": "code",
   "execution_count": null,
   "id": "466e875f",
   "metadata": {},
   "outputs": [
    {
     "data": {
      "text/plain": [
       "{'title': 'Arsenal draw at Everton leaves Liverpool smiling',\n",
       " 'description': 'LIVERPOOL, England - Everton did neighbours Liverpool a massive favour by holding title-chasing Arsenal to a 1-1 Premier League draw at Goodison Park on Saturday.',\n",
       " 'content': 'LIVERPOOL, England - Everton did neighbours Liverpool a massive favour by holding title-chasing Arsenal to a 1-1 Premier League draw at Goodison Park on Saturday. Iliman Ndiaye’s penalty cancelled out a Leandro Trossard opener for the visitors, who now have 62 points from 31 matches, 11 behind leaders Liverpool, who have a game at hand when they go to Fulham on Sunday. Everton climb to 14th place with 35 points from their 31 matches, 15 points clear of the relegation zone. Arsenal took the lead in the 34th minute with the first shot on target in the game as a poor header in midfield allowed Raheem Sterling to race clear and feed Trossard, who took a touch and drilled his shot low into the far right corner. Everton were awarded a penalty two minutes into the second half when Myles Lewis-Skelly hauled down Jack Harrison in the box and Ndiaye netted his ninth goal of the season in all competitions to leave Arsenal’s flagging title hopes in tatters. Liverpool now need just 11 points from their remaining eight matches to secure a record-equalling 20th English top-flight title. Arsenal boss Mikel Arteta had said the best preparation for his side’s Champions League quarter-final, first leg against Real Madrid would be to win on Merseyside on Saturday. But the Spaniard showed he had one eye on the visit of the European champions with his team selection. Bukayo Saka was forced to wait for his first start since December as the England international was left on the bench alongside Martin Odegaard, Gabriel Martinelli, Jurrien Timber and Thomas Partey. Despite also missing Gabriel Magalhaes, Kai Havertz and Gabriel Jesus to long-term injuries, Arsenal were still the dominant force in the first 45 minutes. Arsenal’s title bid, though, has been undone throughout the season by not scoring enough goals, even when Havertz and Jesus were fit earlier in the campaign.',\n",
       " 'image': 'https://static.bangkokpost.com/media/content/20250405/c1_2996436_700.jpg',\n",
       " 'site_url': 'https://www.bangkokpost.com/sports/2996436/arsenal-draw-at-everton-leaves-liverpool-smiling',\n",
       " 'publish_date': '5 Apr 2025',\n",
       " 'publish_time': '21:20'}"
      ]
     },
     "execution_count": 32,
     "metadata": {},
     "output_type": "execute_result"
    }
   ],
   "source": [
    "news"
   ]
  }
 ],
 "metadata": {
  "kernelspec": {
   "display_name": "base",
   "language": "python",
   "name": "python3"
  },
  "language_info": {
   "codemirror_mode": {
    "name": "ipython",
    "version": 3
   },
   "file_extension": ".py",
   "mimetype": "text/x-python",
   "name": "python",
   "nbconvert_exporter": "python",
   "pygments_lexer": "ipython3",
   "version": "3.12.7"
  }
 },
 "nbformat": 4,
 "nbformat_minor": 5
}
